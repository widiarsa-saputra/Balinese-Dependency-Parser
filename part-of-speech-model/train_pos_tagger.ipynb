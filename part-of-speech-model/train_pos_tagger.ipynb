{
 "cells": [
  {
   "cell_type": "code",
   "execution_count": null,
   "metadata": {},
   "outputs": [],
   "source": []
  },
  {
   "cell_type": "markdown",
   "metadata": {},
   "source": [
    "# Buat Dataset"
   ]
  },
  {
   "cell_type": "code",
   "execution_count": 3,
   "metadata": {},
   "outputs": [],
   "source": [
    "import pandas as pd"
   ]
  },
  {
   "cell_type": "code",
   "execution_count": 73,
   "metadata": {},
   "outputs": [],
   "source": [
    "df = pd.read_excel('pos_model.xlsx')"
   ]
  },
  {
   "cell_type": "code",
   "execution_count": 111,
   "metadata": {},
   "outputs": [],
   "source": [
    "df_encode = df.groupby('SentenceID')['Word'].apply(list).reset_index()\n",
    "df_encode.columns = ['SentenceID', 'Sentence']"
   ]
  },
  {
   "cell_type": "code",
   "execution_count": 113,
   "metadata": {},
   "outputs": [
    {
     "data": {
      "text/html": [
       "<div>\n",
       "<style scoped>\n",
       "    .dataframe tbody tr th:only-of-type {\n",
       "        vertical-align: middle;\n",
       "    }\n",
       "\n",
       "    .dataframe tbody tr th {\n",
       "        vertical-align: top;\n",
       "    }\n",
       "\n",
       "    .dataframe thead th {\n",
       "        text-align: right;\n",
       "    }\n",
       "</style>\n",
       "<table border=\"1\" class=\"dataframe\">\n",
       "  <thead>\n",
       "    <tr style=\"text-align: right;\">\n",
       "      <th></th>\n",
       "      <th>SentenceID</th>\n",
       "      <th>Sentence</th>\n",
       "    </tr>\n",
       "  </thead>\n",
       "  <tbody>\n",
       "    <tr>\n",
       "      <th>0</th>\n",
       "      <td>0</td>\n",
       "      <td>[Pan, Karsa, ajaka, pianakne, muani, nanggap, ...</td>\n",
       "    </tr>\n",
       "    <tr>\n",
       "      <th>1</th>\n",
       "      <td>1</td>\n",
       "      <td>[Uli, semeng, maka, sanja, ia, ajaka, dadua, t...</td>\n",
       "    </tr>\n",
       "    <tr>\n",
       "      <th>2</th>\n",
       "      <td>2</td>\n",
       "      <td>[Kenehne, apang, gegaene, enggal, pragat, tur,...</td>\n",
       "    </tr>\n",
       "    <tr>\n",
       "      <th>3</th>\n",
       "      <td>3</td>\n",
       "      <td>[Telung, dina, ia, magae, tan, parerenan, seme...</td>\n",
       "    </tr>\n",
       "    <tr>\n",
       "      <th>4</th>\n",
       "      <td>4</td>\n",
       "      <td>[Kendelne, tara, bakat, ban, nuturang]</td>\n",
       "    </tr>\n",
       "  </tbody>\n",
       "</table>\n",
       "</div>"
      ],
      "text/plain": [
       "   SentenceID                                           Sentence\n",
       "0           0  [Pan, Karsa, ajaka, pianakne, muani, nanggap, ...\n",
       "1           1  [Uli, semeng, maka, sanja, ia, ajaka, dadua, t...\n",
       "2           2  [Kenehne, apang, gegaene, enggal, pragat, tur,...\n",
       "3           3  [Telung, dina, ia, magae, tan, parerenan, seme...\n",
       "4           4             [Kendelne, tara, bakat, ban, nuturang]"
      ]
     },
     "execution_count": 113,
     "metadata": {},
     "output_type": "execute_result"
    }
   ],
   "source": [
    "df_encode.head()"
   ]
  },
  {
   "cell_type": "markdown",
   "metadata": {},
   "source": [
    "ubah urutan sentence id"
   ]
  },
  {
   "cell_type": "code",
   "execution_count": 76,
   "metadata": {},
   "outputs": [
    {
     "name": "stdout",
     "output_type": "stream",
     "text": [
      "finish\n"
     ]
    }
   ],
   "source": [
    "index_sentence = 0\n",
    "sentence_id = []\n",
    "\n",
    "for index, data in df.iterrows():\n",
    "    if index == len(df)-1:\n",
    "        print('finish')\n",
    "    elif df['SentenceID'][index] != df['SentenceID'][index+1]:\n",
    "        index_sentence += 1\n",
    "    sentence_id.append(index_sentence)"
   ]
  },
  {
   "cell_type": "markdown",
   "metadata": {},
   "source": [
    "hapus titik dan unidecode"
   ]
  },
  {
   "cell_type": "code",
   "execution_count": 77,
   "metadata": {},
   "outputs": [],
   "source": [
    "df['SentenceID'] = sentence_id"
   ]
  },
  {
   "cell_type": "code",
   "execution_count": 78,
   "metadata": {},
   "outputs": [],
   "source": [
    "df = df[df['Word'] != '.']\n",
    "df = df[df['Word'] != ',,']\n",
    "from unidecode import unidecode\n",
    "\n",
    "# Misalkan DataFrame Anda bernama df\n",
    "df['Word'] = df['Word'].apply(unidecode)"
   ]
  },
  {
   "cell_type": "code",
   "execution_count": 87,
   "metadata": {},
   "outputs": [
    {
     "data": {
      "text/html": [
       "<div>\n",
       "<style scoped>\n",
       "    .dataframe tbody tr th:only-of-type {\n",
       "        vertical-align: middle;\n",
       "    }\n",
       "\n",
       "    .dataframe tbody tr th {\n",
       "        vertical-align: top;\n",
       "    }\n",
       "\n",
       "    .dataframe thead th {\n",
       "        text-align: right;\n",
       "    }\n",
       "</style>\n",
       "<table border=\"1\" class=\"dataframe\">\n",
       "  <thead>\n",
       "    <tr style=\"text-align: right;\">\n",
       "      <th></th>\n",
       "      <th>StoryID</th>\n",
       "      <th>SentenceID</th>\n",
       "      <th>Word</th>\n",
       "      <th>new POS</th>\n",
       "    </tr>\n",
       "  </thead>\n",
       "  <tbody>\n",
       "    <tr>\n",
       "      <th>89911</th>\n",
       "      <td>164</td>\n",
       "      <td>6635</td>\n",
       "      <td>pecut</td>\n",
       "      <td>propn</td>\n",
       "    </tr>\n",
       "    <tr>\n",
       "      <th>89912</th>\n",
       "      <td>164</td>\n",
       "      <td>6635</td>\n",
       "      <td>mase</td>\n",
       "      <td>propn</td>\n",
       "    </tr>\n",
       "    <tr>\n",
       "      <th>89913</th>\n",
       "      <td>164</td>\n",
       "      <td>6635</td>\n",
       "      <td>pejanga</td>\n",
       "      <td>verb</td>\n",
       "    </tr>\n",
       "    <tr>\n",
       "      <th>89914</th>\n",
       "      <td>164</td>\n",
       "      <td>6635</td>\n",
       "      <td>di</td>\n",
       "      <td>adp</td>\n",
       "    </tr>\n",
       "    <tr>\n",
       "      <th>89915</th>\n",
       "      <td>164</td>\n",
       "      <td>6635</td>\n",
       "      <td>tendasne</td>\n",
       "      <td>noun</td>\n",
       "    </tr>\n",
       "  </tbody>\n",
       "</table>\n",
       "</div>"
      ],
      "text/plain": [
       "       StoryID  SentenceID      Word new POS\n",
       "89911      164        6635     pecut   propn\n",
       "89912      164        6635      mase   propn\n",
       "89913      164        6635   pejanga    verb\n",
       "89914      164        6635        di     adp\n",
       "89915      164        6635  tendasne    noun"
      ]
     },
     "execution_count": 87,
     "metadata": {},
     "output_type": "execute_result"
    }
   ],
   "source": [
    "df.tail()"
   ]
  },
  {
   "cell_type": "code",
   "execution_count": 88,
   "metadata": {},
   "outputs": [],
   "source": [
    "df.to_excel('pos_model_2.xlsx', index=False)"
   ]
  },
  {
   "cell_type": "code",
   "execution_count": 80,
   "metadata": {},
   "outputs": [],
   "source": [
    "df = pd.read_excel('pos_model_2.xlsx')"
   ]
  },
  {
   "cell_type": "markdown",
   "metadata": {},
   "source": [
    "# Word2Vec\n"
   ]
  },
  {
   "cell_type": "code",
   "execution_count": 81,
   "metadata": {},
   "outputs": [],
   "source": [
    "import random\n",
    "\n",
    "def training_data(sentence, vocabulary, WINDOW_SIZE=5, NEGATIVE_SAMPLES=5):\n",
    "    data = []\n",
    "\n",
    "    # Iterasi untuk setiap kata dalam kalimat\n",
    "    for index_center_word, center_word in enumerate(sentence):\n",
    "        # Mengambil kata konteks dalam jendela\n",
    "        context_words = []\n",
    "        for window in range(1, WINDOW_SIZE + 1):\n",
    "            if index_center_word + window < len(sentence):\n",
    "                context_words.append(sentence[index_center_word + window])\n",
    "            if index_center_word - window >= 0:\n",
    "                context_words.append(sentence[index_center_word - window])\n",
    "\n",
    "        # Untuk setiap kata konteks, buat pasangan positif\n",
    "        for context_word in context_words:\n",
    "            data.append([center_word, context_word, 1])\n",
    "\n",
    "        # Untuk negative sampling, pilih kata acak dari vocabulary yang tidak ada dalam jendela\n",
    "        # Misalnya, jika vocabulary berisi daftar semua kata dalam corpus\n",
    "        for _ in range(NEGATIVE_SAMPLES):\n",
    "            negative_sample = random.choice(vocabulary)\n",
    "            while negative_sample in context_words or negative_sample == center_word:\n",
    "                negative_sample = random.choice(vocabulary)\n",
    "            data.append([center_word, negative_sample, 0])\n",
    "\n",
    "    return data\n"
   ]
  },
  {
   "cell_type": "markdown",
   "metadata": {},
   "source": [
    "### vocabulary"
   ]
  },
  {
   "cell_type": "code",
   "execution_count": 114,
   "metadata": {},
   "outputs": [],
   "source": [
    "vocab = list(set(df['Word'].tolist()))"
   ]
  },
  {
   "cell_type": "code",
   "execution_count": 115,
   "metadata": {},
   "outputs": [
    {
     "data": {
      "text/plain": [
       "12899"
      ]
     },
     "execution_count": 115,
     "metadata": {},
     "output_type": "execute_result"
    }
   ],
   "source": [
    "len(vocab)"
   ]
  },
  {
   "cell_type": "code",
   "execution_count": 116,
   "metadata": {},
   "outputs": [],
   "source": [
    "data_skip_gram = []\n",
    "\n",
    "for index, data in df_encode.iterrows():\n",
    "    data_skip_gram.extend(training_data(sentence=data['Sentence'], vocabulary=vocab))"
   ]
  },
  {
   "cell_type": "code",
   "execution_count": 117,
   "metadata": {},
   "outputs": [
    {
     "data": {
      "text/plain": [
       "1055896"
      ]
     },
     "execution_count": 117,
     "metadata": {},
     "output_type": "execute_result"
    }
   ],
   "source": [
    "len(data_skip_gram)"
   ]
  },
  {
   "cell_type": "code",
   "execution_count": 118,
   "metadata": {},
   "outputs": [],
   "source": [
    "import numpy as np\n",
    "\n",
    "df_skip_gram = pd.DataFrame(columns=['center_word', 'context_word', 'label'], data=data_skip_gram)\n",
    "words = np.intersect1d(df_skip_gram.context_word, df_skip_gram.center_word)\n",
    "df_skip_gram = df_skip_gram[(df_skip_gram.center_word.isin(words)) & (df_skip_gram.context_word.isin(words))].reset_index(drop=True)"
   ]
  },
  {
   "cell_type": "code",
   "execution_count": 119,
   "metadata": {},
   "outputs": [
    {
     "data": {
      "text/plain": [
       "array(['310', '90', 'Aa', ..., 'yuta', 'yuyu', 'yuyune'], dtype=object)"
      ]
     },
     "execution_count": 119,
     "metadata": {},
     "output_type": "execute_result"
    }
   ],
   "source": [
    "words"
   ]
  },
  {
   "cell_type": "markdown",
   "metadata": {},
   "source": [
    "### Fungsi"
   ]
  },
  {
   "cell_type": "code",
   "execution_count": 120,
   "metadata": {},
   "outputs": [],
   "source": [
    "def sigmoid(v, scale=1):\n",
    "    return 1 / (1 + np.exp(-scale*v))"
   ]
  },
  {
   "cell_type": "code",
   "execution_count": 121,
   "metadata": {},
   "outputs": [],
   "source": [
    "def normalize_data(data):\n",
    "    row_norms = np.sqrt((data.values**2).sum(axis=1)).reshape(-1,1)\n",
    "    return data.divide(row_norms, axis='index')"
   ]
  },
  {
   "cell_type": "code",
   "execution_count": 122,
   "metadata": {},
   "outputs": [],
   "source": [
    "from scipy.spatial.distance import cosine\n",
    "import matplotlib.pyplot as plt\n",
    "\n",
    "def plot_words(debug):\n",
    "    plt.figure(figsize=(8,4))\n",
    "    \n",
    "    plt.subplot(1,2,1)\n",
    "    lim_main_first = main_embeddings.loc[[debug[0]]]\n",
    "    lim_main_second = main_embeddings.loc[[debug[1]]]\n",
    "    p1 = plt.scatter(lim_main_first[0], lim_main_first[1], color='r')\n",
    "    plt.arrow(0,0,float(lim_main_first[0]), float(lim_main_first[1]), head_width=0.01, length_includes_head=True)\n",
    "    for idx,row in lim_main_first.iterrows():\n",
    "        plt.text(row[0], row[1], str(idx))\n",
    "    p2 = plt.scatter(lim_main_second[0], lim_main_second[1], color='r')\n",
    "    plt.arrow(0,0,float(lim_main_second[0]), float(lim_main_second[1]), head_width=0.01, length_includes_head=True)\n",
    "    for idx,row in lim_main_second.iterrows():\n",
    "        plt.text(row[0], row[1], str(idx))\n",
    "    sim = 1 - cosine(main_embeddings.loc[debug[0]], main_embeddings.loc[debug[1]])\n",
    "    plt.title('Sim = %s'%round(sim,4), fontsize=20)\n",
    "    plt.axvline(0, color='k', linestyle='--', alpha=0.5)\n",
    "    plt.axhline(0, color='k', linestyle='--', alpha=0.5)\n",
    "    \n",
    "    t = np.arange(0, 3.14*2+0.1, 0.1)\n",
    "    plt.plot(np.cos(t), np.sin(t), linewidth=1, color='k', alpha=0.5, linestyle='--')\n",
    "    \n",
    "    ###################################\n",
    "    \n",
    "    plt.subplot(1,2,2)\n",
    "    lim_main = main_embeddings.loc[[debug[0]]]\n",
    "    lim_context = context_embeddings.loc[[debug[1]]]\n",
    "    p1 = plt.scatter(lim_main[0], lim_main[1], color='r')\n",
    "    plt.arrow(0,0,float(lim_main[0]), float(lim_main[1]), head_width=0.01, length_includes_head=True)\n",
    "    for idx,row in lim_main.iterrows():\n",
    "        plt.text(row[0], row[1], str(idx))\n",
    "    p2 = plt.scatter(lim_context[0], lim_context[1], color='b')\n",
    "    plt.arrow(0,0,float(lim_context[0]), float(lim_context[1]), head_width=0.01, length_includes_head=True)\n",
    "    for idx,row in lim_context.iterrows():\n",
    "        plt.text(row[0], row[1], str(idx))\n",
    "    sim = 1 - cosine(main_embeddings.loc[debug[0]], context_embeddings.loc[debug[1]])\n",
    "    plt.title('Sim = %s'%round(sim,4), fontsize=20)\n",
    "    plt.axvline(0, color='k', linestyle='--', alpha=0.5)\n",
    "    plt.axhline(0, color='k', linestyle='--', alpha=0.5)\n",
    "    \n",
    "    plt.plot(np.cos(t), np.sin(t), linewidth=1, color='k', alpha=0.5, linestyle='--')\n",
    "    \n",
    "    plt.show()"
   ]
  },
  {
   "cell_type": "code",
   "execution_count": 123,
   "metadata": {},
   "outputs": [],
   "source": [
    "def update_embeddings(df, main_embeddings, context_embeddings, learning_rate, debug=False):\n",
    "    \n",
    "    #mencari perbedaan(diffs) antara main_embedding dengan context_embedding\n",
    "    main_embeddings_center = main_embeddings.loc[df.center_word].values\n",
    "    context_embeddings_context = context_embeddings.loc[df.context_word].values\n",
    "    diffs = context_embeddings_context - main_embeddings_center\n",
    "    \n",
    "    #Mencari similaritas, skor, dan error diantaran main_embedding dengan context_embedding\n",
    "    dot_products = np.sum(main_embeddings_center * context_embeddings_context, axis=1)\n",
    "    scores = sigmoid(dot_products)\n",
    "    errors = (df.label - scores).values.reshape(-1,1)\n",
    "    \n",
    "    #calculate updates\n",
    "    updates = diffs*errors*learning_rate\n",
    "    updates_df = pd.DataFrame(data=updates)\n",
    "    updates_df['center_word'] = df.center_word\n",
    "    updates_df['context_word'] = df.context_word\n",
    "    updates_df_center = updates_df.groupby('center_word').sum(numeric_only=True)\n",
    "    updates_df_context = updates_df.groupby('context_word').sum(numeric_only=True)\n",
    "    \n",
    "    if debug:\n",
    "        plot_words(debug)   \n",
    "\n",
    "    #apply updates\n",
    "    main_embeddings += updates_df_center.loc[main_embeddings.index]\n",
    "    context_embeddings -= updates_df_context.loc[context_embeddings.index]\n",
    "    \n",
    "    #normalize embeddings\n",
    "    main_embeddings = normalize_data(main_embeddings)\n",
    "    context_embeddings = normalize_data(context_embeddings)\n",
    "    \n",
    "    #return the updated embeddings\n",
    "    return main_embeddings, context_embeddings"
   ]
  },
  {
   "cell_type": "code",
   "execution_count": 124,
   "metadata": {},
   "outputs": [],
   "source": [
    "EMBEDDING_SIZE = 100\n",
    "\n",
    "main_embeddings = np.random.normal(0,0.1,(len(words), EMBEDDING_SIZE))\n",
    "row_norms = np.sqrt((main_embeddings**2).sum(axis=1)).reshape(-1,1)\n",
    "main_embeddings = main_embeddings / row_norms\n",
    "\n",
    "context_embeddings = np.random.normal(0,0.1,(len(words), EMBEDDING_SIZE))\n",
    "row_norms = np.sqrt((context_embeddings**2).sum(axis=1)).reshape(-1,1)\n",
    "context_embeddings = context_embeddings / row_norms\n",
    "\n",
    "main_embeddings = pd.DataFrame(data=main_embeddings, index=words)\n",
    "context_embeddings = pd.DataFrame(data=context_embeddings, index=words)\n",
    "\n",
    "epoch = 25\n",
    "\n",
    "for _ in range(epoch):\n",
    "    main_embeddings, context_embeddings = update_embeddings(df_skip_gram, main_embeddings, context_embeddings, 0.01)"
   ]
  },
  {
   "cell_type": "code",
   "execution_count": 125,
   "metadata": {},
   "outputs": [],
   "source": [
    "# Menggabungkan nilai seluruh kolom pada setiap baris menjadi list\n",
    "main_embeddings['vektor_embedding'] = main_embeddings.apply(lambda row: row.tolist(), axis=1)\n",
    "\n",
    "# Membuat DataFrame baru dengan kolom 'combined' yang berisi list dari seluruh kolom\n",
    "final_word_embedding = main_embeddings[['vektor_embedding']]\n"
   ]
  },
  {
   "cell_type": "code",
   "execution_count": 126,
   "metadata": {},
   "outputs": [
    {
     "data": {
      "text/html": [
       "<div>\n",
       "<style scoped>\n",
       "    .dataframe tbody tr th:only-of-type {\n",
       "        vertical-align: middle;\n",
       "    }\n",
       "\n",
       "    .dataframe tbody tr th {\n",
       "        vertical-align: top;\n",
       "    }\n",
       "\n",
       "    .dataframe thead th {\n",
       "        text-align: right;\n",
       "    }\n",
       "</style>\n",
       "<table border=\"1\" class=\"dataframe\">\n",
       "  <thead>\n",
       "    <tr style=\"text-align: right;\">\n",
       "      <th></th>\n",
       "      <th>vektor_embedding</th>\n",
       "    </tr>\n",
       "  </thead>\n",
       "  <tbody>\n",
       "    <tr>\n",
       "      <th>310</th>\n",
       "      <td>[0.008706084013628216, -0.04113459350431811, 0...</td>\n",
       "    </tr>\n",
       "    <tr>\n",
       "      <th>90</th>\n",
       "      <td>[-0.16363709820048164, -0.143370451198932, 0.0...</td>\n",
       "    </tr>\n",
       "    <tr>\n",
       "      <th>Aa</th>\n",
       "      <td>[-0.11810708768793127, 0.03206814061440846, -0...</td>\n",
       "    </tr>\n",
       "    <tr>\n",
       "      <th>Abimanyu</th>\n",
       "      <td>[-0.05830379906390936, -0.04773073165083823, -...</td>\n",
       "    </tr>\n",
       "    <tr>\n",
       "      <th>Abulan</th>\n",
       "      <td>[0.21767462207887103, 0.1179176898254253, -0.0...</td>\n",
       "    </tr>\n",
       "  </tbody>\n",
       "</table>\n",
       "</div>"
      ],
      "text/plain": [
       "                                           vektor_embedding\n",
       "310       [0.008706084013628216, -0.04113459350431811, 0...\n",
       "90        [-0.16363709820048164, -0.143370451198932, 0.0...\n",
       "Aa        [-0.11810708768793127, 0.03206814061440846, -0...\n",
       "Abimanyu  [-0.05830379906390936, -0.04773073165083823, -...\n",
       "Abulan    [0.21767462207887103, 0.1179176898254253, -0.0..."
      ]
     },
     "execution_count": 126,
     "metadata": {},
     "output_type": "execute_result"
    }
   ],
   "source": [
    "final_word_embedding.head()"
   ]
  },
  {
   "cell_type": "code",
   "execution_count": 127,
   "metadata": {},
   "outputs": [],
   "source": [
    "final_word_embedding.to_excel('final_word_embedding.xlsx', index=True)"
   ]
  },
  {
   "cell_type": "markdown",
   "metadata": {},
   "source": [
    "## aplikasi word embedding ke dataset"
   ]
  },
  {
   "cell_type": "code",
   "execution_count": 128,
   "metadata": {},
   "outputs": [],
   "source": [
    "final_word_embedding = pd.read_excel('final_word_embedding.xlsx')"
   ]
  },
  {
   "cell_type": "code",
   "execution_count": null,
   "metadata": {},
   "outputs": [],
   "source": [
    "final_word_embedding = final_word_embedding.rename(columns={'Unnamed: 0' : 'word'})"
   ]
  },
  {
   "cell_type": "code",
   "execution_count": 183,
   "metadata": {},
   "outputs": [],
   "source": [
    "def data_embedding_funct(word):\n",
    "    return final_word_embedding.loc[final_word_embedding['word'] == word, 'vektor_embedding'].values"
   ]
  },
  {
   "cell_type": "code",
   "execution_count": 134,
   "metadata": {},
   "outputs": [],
   "source": [
    "df['word_emb'] = df['Word'].apply(data_embedding_funct)"
   ]
  },
  {
   "cell_type": "code",
   "execution_count": 278,
   "metadata": {},
   "outputs": [
    {
     "data": {
      "text/html": [
       "<div>\n",
       "<style scoped>\n",
       "    .dataframe tbody tr th:only-of-type {\n",
       "        vertical-align: middle;\n",
       "    }\n",
       "\n",
       "    .dataframe tbody tr th {\n",
       "        vertical-align: top;\n",
       "    }\n",
       "\n",
       "    .dataframe thead th {\n",
       "        text-align: right;\n",
       "    }\n",
       "</style>\n",
       "<table border=\"1\" class=\"dataframe\">\n",
       "  <thead>\n",
       "    <tr style=\"text-align: right;\">\n",
       "      <th></th>\n",
       "      <th>StoryID</th>\n",
       "      <th>SentenceID</th>\n",
       "      <th>Word</th>\n",
       "      <th>new POS</th>\n",
       "      <th>word_emb</th>\n",
       "    </tr>\n",
       "  </thead>\n",
       "  <tbody>\n",
       "    <tr>\n",
       "      <th>0</th>\n",
       "      <td>0</td>\n",
       "      <td>0</td>\n",
       "      <td>Pan</td>\n",
       "      <td>propn</td>\n",
       "      <td>[[0.07002387715406538, -0.028471471947595483, ...</td>\n",
       "    </tr>\n",
       "    <tr>\n",
       "      <th>1</th>\n",
       "      <td>0</td>\n",
       "      <td>0</td>\n",
       "      <td>Karsa</td>\n",
       "      <td>punct</td>\n",
       "      <td>[[0.014792937983094003, -0.13909075156172937, ...</td>\n",
       "    </tr>\n",
       "    <tr>\n",
       "      <th>2</th>\n",
       "      <td>0</td>\n",
       "      <td>0</td>\n",
       "      <td>ajaka</td>\n",
       "      <td>adp</td>\n",
       "      <td>[[0.07034387839105, -0.0277573743620209, 0.135...</td>\n",
       "    </tr>\n",
       "    <tr>\n",
       "      <th>3</th>\n",
       "      <td>0</td>\n",
       "      <td>0</td>\n",
       "      <td>pianakne</td>\n",
       "      <td>verb</td>\n",
       "      <td>[[0.05553844200859273, -0.03205081261100487, 0...</td>\n",
       "    </tr>\n",
       "    <tr>\n",
       "      <th>4</th>\n",
       "      <td>0</td>\n",
       "      <td>0</td>\n",
       "      <td>muani</td>\n",
       "      <td>noun</td>\n",
       "      <td>[[0.05201503156493778, -0.03286708678576444, 0...</td>\n",
       "    </tr>\n",
       "  </tbody>\n",
       "</table>\n",
       "</div>"
      ],
      "text/plain": [
       "   StoryID  SentenceID      Word new POS  \\\n",
       "0        0           0       Pan   propn   \n",
       "1        0           0     Karsa   punct   \n",
       "2        0           0     ajaka     adp   \n",
       "3        0           0  pianakne    verb   \n",
       "4        0           0     muani    noun   \n",
       "\n",
       "                                            word_emb  \n",
       "0  [[0.07002387715406538, -0.028471471947595483, ...  \n",
       "1  [[0.014792937983094003, -0.13909075156172937, ...  \n",
       "2  [[0.07034387839105, -0.0277573743620209, 0.135...  \n",
       "3  [[0.05553844200859273, -0.03205081261100487, 0...  \n",
       "4  [[0.05201503156493778, -0.03286708678576444, 0...  "
      ]
     },
     "execution_count": 278,
     "metadata": {},
     "output_type": "execute_result"
    }
   ],
   "source": [
    "df.head()"
   ]
  },
  {
   "cell_type": "code",
   "execution_count": 121,
   "metadata": {},
   "outputs": [],
   "source": [
    "df.to_excel('pos_model_final.xlsx', index=False)"
   ]
  },
  {
   "cell_type": "code",
   "execution_count": null,
   "metadata": {},
   "outputs": [],
   "source": [
    "def join_token(df, pos_tags=[]):\n",
    "    temp_sentence_id = 0\n",
    "\n",
    "    sentence = []\n",
    "    sentences = []\n",
    "\n",
    "    word_emb = []\n",
    "    word_embs = []\n",
    "\n",
    "    pos_tag = []\n",
    "    pos_tags = []\n",
    "\n",
    "    for index, data in df.iterrows():\n",
    "        if temp_sentence_id == df['SentenceID'][index]:\n",
    "            sentence.append(data['Word'])\n",
    "            word_emb.append(data['word_emb'])\n",
    "            pos_tag.append(data['new POS'])\n",
    "        else:\n",
    "            sentences.append(sentence)\n",
    "            word_embs.append(word_emb)\n",
    "            pos_tags.append(pos_tag)\n",
    "\n",
    "            sentence = []\n",
    "            word_emb = []\n",
    "            pos_tag = []\n",
    "\n",
    "            temp_sentence_id += 1\n",
    "            sentence.append(data['Word'])\n",
    "            word_emb.append(data['word_emb'])\n",
    "            pos_tag.append(data['new POS'])\n",
    "    return sentences, word_embs, pos_tags\n",
    "            "
   ]
  },
  {
   "cell_type": "code",
   "execution_count": 25,
   "metadata": {},
   "outputs": [],
   "source": [
    "sentences, word_embs, pos_tags = join_token(df)\n",
    "data = {\n",
    "    'sentences' : sentences,\n",
    "    'word_embs' : word_embs,\n",
    "    'pos_tags' : pos_tags\n",
    "}\n",
    "\n",
    "df_dataset = pd.DataFrame(data)"
   ]
  },
  {
   "cell_type": "code",
   "execution_count": 256,
   "metadata": {},
   "outputs": [
    {
     "name": "stdout",
     "output_type": "stream",
     "text": [
      "<class 'str'>\n",
      "2174\n"
     ]
    },
    {
     "data": {
      "text/plain": [
       "'[0.12964028080210996, -0.09584557628465226, 0.0655824654971349, -0.05066044429784154, 0.10998222827387567, 0.03577038938767248, -0.1739068161416247, -0.08355342057577972, -0.06266904160187911, -0.026727112716117305, 0.005669683763925348, -0.11858280729549119, -0.22678012484483273, 0.038512443663754455, 0.10755820291299106, -0.07513139204035889, 0.09048007251225458, 0.11488925911552383, -0.02034605971750329, -0.09421117343602718, -0.07717109482453818, -0.035327546697538584, -0.15152994399945027, -0.07094829972188972, 0.008988788331132131, -0.027797145897903067, -0.03254293872863036, -0.07480245956082596, -0.053945412856573345, -0.04488172450516051, -0.0040252880507345755, -0.21698266250197726, -0.14118284345194676, 0.12728285834714947, 0.06759178231666081, 0.17882710730796353, -0.017745728343314244, -0.04537996897663905, 0.049403713760017065, -0.130926563371036, -0.008407953293425087, 0.027842612730696062, 0.011415118461265585, -0.021892717795998242, 0.03745760010676721, -0.05823870496462569, -0.013788716829545057, -0.15395450810024666, -0.03251919928931779, -0.08746457619157906, 0.015729697178170274, -0.09436620582947806, -0.06636153536508461, -0.26059178784066783, -0.07644570726439412, 0.0047743633474168715, 0.08178504365980738, -0.06513958849106305, 0.019428624873968032, 0.11188917511185112, 0.03874882840599707, -0.13912971922861686, 0.13284559967482437, -0.1915840474619044, 0.11455079346311677, 0.03342014741197674, -0.08846209006473692, 0.1841121784104725, 0.09795695945850255, 0.10968144868924978, 0.07377237706972055, -0.19406108650541842, -0.016064617848175138, -0.07652705236034973, -0.011477776422693101, 0.04485943338901113, 0.09339329926807975, 0.13718578753465627, 0.03890656651488197, -0.04680789156953893, 0.17881307283738937, 0.041107712521307536, -0.08174542242787086, -0.06437287552616916, -0.06524008351505786, 0.004211909660913961, -0.012703614290657503, -0.014061734390126805, -0.2693448296992489, -0.11239034667653594, 0.0797160183977119, -0.1475642580097153, 0.07272869611947393, 0.07977449788789684, 0.1259161751088394, 0.009617411518796004, 0.15720878584491116, -0.03431591274944381, -0.07591350564250665, 0.023072773353041445]'"
      ]
     },
     "execution_count": 256,
     "metadata": {},
     "output_type": "execute_result"
    }
   ],
   "source": [
    "print(type(df_dataset['word_embs'][0][0]))\n",
    "print(len(df_dataset['word_embs'][0][0]))\n",
    "df_dataset['word_embs'][0][0]"
   ]
  },
  {
   "cell_type": "code",
   "execution_count": 27,
   "metadata": {},
   "outputs": [],
   "source": [
    "from sklearn.model_selection import train_test_split\n",
    "import sklearn_crfsuite\n",
    "from sklearn_crfsuite import metrics"
   ]
  },
  {
   "cell_type": "code",
   "execution_count": 272,
   "metadata": {},
   "outputs": [],
   "source": [
    "def sentences_to_features(sentence, sentence_embedding):\n",
    "    features = []\n",
    "\n",
    "    for index in range(len(sentence)):\n",
    "        feature = {\n",
    "            'bias': 1.0,\n",
    "            'word': sentence[index],\n",
    "            'word_embedding': sentence_embedding[index],\n",
    "            'is_first': index == 0,\n",
    "            'is_last': index == len(sentence) - 1,\n",
    "            'prev_word': '' if index == 0 else sentence[index-1],\n",
    "            'next_word': '' if index == len(sentence) - 1 else sentence[index+1]\n",
    "        }\n",
    "        features.append(feature)\n",
    "    return features"
   ]
  },
  {
   "cell_type": "code",
   "execution_count": 273,
   "metadata": {},
   "outputs": [],
   "source": [
    "def prepare_data(df):\n",
    "    sentences = []\n",
    "    labels = []\n",
    "\n",
    "    for index in range(len(df)):\n",
    "        # Menyusun fitur untuk CRF dan label POS\n",
    "        sentences.append(sentences_to_features(df['sentences'][index],df['word_embs'][index]))\n",
    "        labels.append(df.iloc[index]['pos_tags'])\n",
    "    \n",
    "    return sentences, labels"
   ]
  },
  {
   "cell_type": "code",
   "execution_count": 30,
   "metadata": {},
   "outputs": [],
   "source": [
    "X, y = prepare_data(df_dataset)\n",
    "\n",
    "# Membagi data menjadi train dan test\n",
    "X_train, X_test, y_train, y_test = train_test_split(X, y, test_size=0.2, random_state=42)\n"
   ]
  },
  {
   "cell_type": "code",
   "execution_count": 31,
   "metadata": {},
   "outputs": [
    {
     "data": {
      "text/plain": [
       "[{'bias': 1.0,\n",
       "  'word': 'Ring',\n",
       "  'word_embedding': '[0.13654103264641465, -0.18263010648026187, 0.12618458316822023, -0.0931915282702292, -0.01520771328778107, 0.08128388589394599, -0.0321047338583863, 0.029486606308703797, 0.041175371797387436, -0.0022777913425290836, -0.12773856614865559, 0.07179661461104177, 0.08604576913429092, 0.05889672050934415, 0.03501972865000048, -0.1381303722616548, 0.07538905014199765, -0.20647976413478797, -0.06558730579182812, -0.018050504780568966, -0.012428563056648093, -0.1008260387705123, 0.02690351287989135, 0.1453829211830896, 0.20641369893201528, 0.0520105508373885, -0.11287306744381369, 0.027732946915755872, -0.12843944562926074, -0.012975356894740673, 0.03280997686915463, -0.05599318646000671, -0.04630353458620499, 0.1400842377204049, 0.0021094137518620345, -0.02787887457878065, -0.06177550750014503, -0.11309047709598363, -0.11589041627108224, -0.17129754197272962, 0.2009922008117592, -0.08659923176844932, 0.1401498410578184, 0.044868281503124184, -0.1219209518079197, -0.0414683104885679, -0.04226835687440788, -0.0650249473047267, 0.0323033964536957, -0.1397358006196973, -0.11771931853411073, -0.08469679208320793, 0.07135971350761255, -0.22061706911243983, 0.04742173697344551, 0.0985747141393972, 0.1595781300890437, -0.019414435921509, -0.09218376348931556, 0.06350979370856827, -0.06319039263430522, 0.01506448881691309, -0.09185140156968356, -0.10262458527438878, -0.0063539012437660615, -0.006494325479912509, -0.14004976704406452, -0.21121204170234167, 0.06534381918960538, 0.042939961786844755, 0.10434877920680136, -0.025432251205389732, -0.12549620112096507, -0.17176026550209955, -0.09057771166354935, 0.10624015590721202, 0.016125080557943663, -0.1362952200161769, -0.0411854200780637, -0.02412326720464453, 0.0014767395132539965, 0.023776841209582584, 0.10326994070964989, -0.1426845443897697, -0.05314522747652712, -0.04066739110480499, 0.025688914477853406, 0.01452570911575039, 0.07135092308407412, 0.061787959940546255, 0.1624738297179328, 0.061340587603036296, -0.17695929751640566, -0.018976693592694056, 0.21495133552456888, 0.014037499378544647, 0.06868785649952805, -0.13227009356481648, -0.09157842575992794, 0.003373316959638849]',\n",
       "  'is_first': True,\n",
       "  'is_last': False,\n",
       "  'prev_word': '',\n",
       "  'next_word': 'dija'},\n",
       " {'bias': 1.0,\n",
       "  'word': 'dija',\n",
       "  'word_embedding': '[0.13989963965149557, -0.10267569938623325, 0.07042225292319912, -0.05256943104114317, 0.08855078607960033, 0.036995206441086656, -0.17783758824812432, -0.08318272168040673, -0.058524498375556344, -0.0419060921288993, -0.016316913627730058, -0.1193315754287909, -0.21329684560016063, 0.05931910573146543, 0.08577579687075425, -0.08086931978789859, 0.1131503816467286, 0.09940063847576676, -0.04003331054741204, -0.0929260709782788, -0.07231329225949185, -0.05777071992975952, -0.14457192727869753, -0.06063644189885717, 0.02655690179628895, -0.02996853756234085, -0.026434425081990967, -0.07289107109451372, -0.05671227407634006, -0.05413612203914681, -0.005289871144774638, -0.22162727583014058, -0.1364207857664169, 0.13669522778667528, 0.06424764229493869, 0.17419591105698418, -0.028275063452788407, -0.052622774961756894, 0.04373401008714413, -0.1332576985502106, -0.004121669134617069, 0.017047518216330663, 0.014107765411868213, -0.016803751690346362, 0.023147370186719408, -0.04890044748952296, -0.011685642655148532, -0.1606467658282576, -0.05633657616391734, -0.0960063814963945, 0.016403946202687265, -0.09090569512633079, -0.057872693745157945, -0.2660852470394708, -0.0705163946687094, 0.0020334893271667146, 0.08848629533170572, -0.05237536648517209, 0.001932130935266112, 0.11173512204443412, 0.03690731815240535, -0.12519328310679678, 0.13715448043972162, -0.19331448430266324, 0.10419106212832151, 0.03645429113905117, -0.10514271095933173, 0.17471840862970095, 0.10600448043462476, 0.10692156421568698, 0.07051888182627541, -0.19518417499276777, -0.035613204898752145, -0.06883931301704288, -0.017068368039522136, 0.05314080298035945, 0.09043043978529326, 0.11709539871974148, 0.03010445189437279, -0.05000536138277114, 0.17933435781821208, 0.0472284377452068, -0.0752085978473475, -0.0784725812073387, -0.06499150714220171, 0.002445158692281674, -0.0078034518341027976, -0.019699743439152956, -0.24500770543369638, -0.10309465906173948, 0.09705914305973691, -0.1447488333447231, 0.07575703854721492, 0.08292204530955931, 0.15950754399854958, 0.009934297120044613, 0.16960100941014356, -0.0475234231484326, -0.07262406085110144, 0.039303152112171634]',\n",
       "  'is_first': False,\n",
       "  'is_last': False,\n",
       "  'prev_word': 'Ring',\n",
       "  'next_word': 'makakalih'},\n",
       " {'bias': 1.0,\n",
       "  'word': 'makakalih',\n",
       "  'word_embedding': '[0.16881914061665862, -0.2072665423914341, -0.08487252485652313, -0.059953922787833666, 0.08347029827204734, -0.053697408291357454, -0.22396841948030213, -0.041794028061946674, -0.04995202241685382, -0.030446181041356442, -0.09641540072310066, -0.029418514888456773, 0.17913589233597507, 0.0876036988278062, 0.07170655312489359, -0.12350287916338087, 0.09371423519690776, -0.14165984914683705, 0.011917050592305398, 0.009740034130576326, -0.028794869318456873, -0.10318650957688981, -0.0028961513895977378, -0.08174702725368742, 0.17522952100582562, -0.018631223847164254, 0.14236375340968913, 0.06177744997918045, -0.0023344114158522634, -0.08498878975444826, -0.173546107076296, 0.01639281344473464, -0.02202873849953828, -0.10803202513596806, -0.12302926795892412, -0.13829525160003112, 0.1170130809983936, -0.06742117234355645, 0.07731284735966994, -0.08831556144461172, 0.21651088053973705, -0.11978711355371792, 0.1276058286702249, 0.03912369705158776, -0.05593199450663341, -0.03228500617521342, 0.02869079568592849, -0.2548248983259137, -0.12051920783784642, -0.18636246638734458, 0.01599140351049657, 0.03642664261896746, -0.026945988375428265, -0.0942280426592408, -0.03138420985524533, 0.003441043238684392, 0.1842541283508699, -0.06124085991070945, -0.0727719227036581, -0.0645948974250504, -0.05079572821035191, 0.02419792440204719, 0.06905150855568329, 0.022352644626025417, 0.010271022828430103, -0.021309577116675492, -0.025005454281776297, -0.12417138736892563, 0.06659466566065969, 0.06722233373471578, -0.01273473613261538, -0.07168787982793909, -0.09566596155909883, 0.05447338666419103, 0.0024529931294192666, -0.08557599977845919, 0.11435780256722794, -0.16832386727290932, -0.01653469756175796, 0.028887242506347822, -0.11845670571066227, -0.08589565596274872, -0.014422046192788718, -0.02464835954032754, 0.01620662173297756, 0.03929694636107965, -0.03577159477056662, -0.010662853129343909, 0.1008660447269119, 0.04382902898839012, 0.19392486618440147, -0.08077034363711598, -0.05764441398374247, 0.1777860211286847, 0.1838968688367834, -0.07292878939200648, 0.15442985880941845, -0.15310567906286005, 0.037058223044001526, 0.024150488145833166]',\n",
       "  'is_first': False,\n",
       "  'is_last': False,\n",
       "  'prev_word': 'dija',\n",
       "  'next_word': 'Sang'},\n",
       " {'bias': 1.0,\n",
       "  'word': 'Sang',\n",
       "  'word_embedding': '[0.12979337174895034, -0.09665285150213412, 0.06198612397979289, -0.05228567102930894, 0.11532916878426376, 0.041557813573473386, -0.17728578553717309, -0.08009402280347584, -0.06881814776164695, -0.02995118089028247, 0.004290766295966945, -0.11701494528639503, -0.22262464805096083, 0.04313817313881402, 0.10625206213663987, -0.07981156543181116, 0.094879233705255, 0.10871149244994917, -0.027451822873169385, -0.09559085325848736, -0.07535669649828969, -0.037883082990677004, -0.1517505967723228, -0.07684176004394988, 0.01649542856297576, -0.02785672945582869, -0.03452787317346936, -0.07027897066796424, -0.0443596626416533, -0.040519679282443904, 0.0021153959299312344, -0.21928310905598153, -0.13886906272580324, 0.1230782822291015, 0.06870326989368783, 0.16999339283893147, -0.01662502286928332, -0.051928920333005474, 0.04926558587956431, -0.13508447232049361, -0.0018941854809779793, 0.025983054211917437, 0.015962588376291616, -0.022221620775103694, 0.03195950998779438, -0.05916250376001994, -0.005313296433298292, -0.1582754051742315, -0.038516969749056953, -0.09059563395005706, 0.007511954569260785, -0.09322904854825742, -0.05972278514971141, -0.2594297966315126, -0.07388763233438596, 0.005591406584790709, 0.09041966603503986, -0.06619774038923663, 0.016357841554923824, 0.10755824918995069, 0.041977016540992514, -0.13553436585928325, 0.13223201614611935, -0.19255829791167947, 0.11061472703912402, 0.03567331445340048, -0.09869746501469708, 0.18658325794853908, 0.10022473174354402, 0.11084146244517344, 0.07689655550933094, -0.19029556953011115, -0.018864992712886823, -0.0727545913873966, -0.016731918699461237, 0.048335235176104156, 0.09645610684066563, 0.12855621615298865, 0.035743970237576174, -0.046176701954082425, 0.1739928095892721, 0.04138059432428535, -0.07842231334305158, -0.06564938572169204, -0.06632650963734218, 0.012698948013240962, -0.017607345502411637, -0.01229016586432981, -0.2609558441203211, -0.11838753360324807, 0.08780834974068077, -0.14260722086736413, 0.06384925629774132, 0.08937323262381211, 0.14241135913592057, 0.00893914338290098, 0.15972334024939516, -0.04178236484489719, -0.07530433670119328, 0.026013427467940532]',\n",
       "  'is_first': False,\n",
       "  'is_last': False,\n",
       "  'prev_word': 'makakalih',\n",
       "  'next_word': 'Pandita'},\n",
       " {'bias': 1.0,\n",
       "  'word': 'Pandita',\n",
       "  'word_embedding': '[0.12845992016306867, -0.10053092505960937, 0.023902073711311124, 0.012748854161987823, -0.09118520140026402, -0.019968185978402265, -0.0167402735890386, 0.002750002634074023, -0.024590816940850326, -0.21066807661007683, -0.1637718505208978, 0.015943392011686375, 0.04000011419571788, 0.17318453758834285, -0.15936222636113043, -0.024477855628663708, 0.12469619317009997, -0.14240685908253103, -0.2069844182296237, 0.012810113271166466, -0.12176820912428923, -0.21573932896985337, -0.0977693494099181, 0.04719362234104774, 0.16915686235320565, -0.059364141414283485, 0.05337319937576413, 0.042489000306402215, 0.026085785464831954, -0.05474508124291212, -0.09242174312599247, -0.09920896226573364, 0.06009184145006033, 0.016316453861254073, -0.061287067260753995, 0.03026492829709963, 0.05955223551959456, -0.0785760582485536, 0.013177085740640046, -0.0891789674299843, 0.12963322260340754, -0.022159810569622625, 0.1143402142398711, -0.020304115244488687, -0.13977349238835393, 0.09775912230460668, 0.08929798644812022, -0.13158275351280932, -0.07750387922499628, -0.06870588956869085, -0.009153347431754565, -0.015566103529227876, 0.01928104244936438, -0.06840365741654791, -0.0548992534893993, -0.023162428682599944, 0.0832435393745953, 0.03540513683585762, -0.0922539900438886, 0.00542837200426668, -0.029738018326185146, 0.05620978263645101, 0.01826710009547982, -0.004855605739942875, -0.003331577652011554, 0.05225789335569605, -0.23208463089727557, 0.04681827992417192, 0.14380643395687817, 0.00932335491248634, 0.17099747088163333, -0.06913556980952325, -0.08017619745046224, -0.08128557859769987, -0.07972578480124694, 0.05185361223299113, 0.09865748029654597, -0.17904437835341003, -0.18600915609870172, -0.08692081440584315, -0.045539940359784384, 0.010288679097106455, 0.10985334348452216, -0.038305255214890505, 0.007382523100818974, 0.02700343399922158, -0.12812412754437136, 0.03336664815980506, -0.0016639413910129015, -0.07928461492449737, 0.20172407845320312, 0.10006468259803127, 0.019035392926733077, 0.15990818778610577, 0.29537566718285735, 0.025709463136322844, 0.0048238723394743565, -0.1896805389536302, 0.0452864485873763, 0.0910840124733124]',\n",
       "  'is_first': False,\n",
       "  'is_last': False,\n",
       "  'prev_word': 'Sang',\n",
       "  'next_word': 'nenten'},\n",
       " {'bias': 1.0,\n",
       "  'word': 'nenten',\n",
       "  'word_embedding': '[0.1396429212355647, -0.10164740522124659, 0.054546689884804614, -0.05953657473897817, 0.1027138062910571, 0.05528910058212032, -0.17307243356199628, -0.0819105295196936, -0.08153469155604148, -0.04394305719572281, -0.014627703410953737, -0.1228745402712195, -0.20663532092081058, 0.05557282087507472, 0.08234515209742153, -0.09023312799716235, 0.09331501261376288, 0.08761435434712972, -0.0509723236386485, -0.09679273523315958, -0.08012756830238894, -0.05264659483710254, -0.1499520588850671, -0.07205257955651363, 0.037986847804740896, -0.018823886771577966, -0.026033722774618278, -0.06221233591237594, -0.027054485166863436, -0.047499374069388006, 0.0026874461316330396, -0.2186913763817081, -0.1395392966210035, 0.11093763352122166, 0.07687973438157249, 0.14664113800725123, -0.013063235319995911, -0.05521831512371304, 0.040794323542867356, -0.14089508253930352, 0.016595665226742582, 0.011542020108782894, 0.0317366861434604, -0.023234124171747875, 0.021078376979820564, -0.04420854996163968, 0.011256833952097816, -0.17419690342772742, -0.059705683887532474, -0.1054061773442596, -0.004870791850841319, -0.0953701000548749, -0.04750765978702845, -0.26014800562539236, -0.07266115181077398, 0.009968308652281068, 0.11005072283087214, -0.05405781199847925, 0.0046713174882105106, 0.0943699788863288, 0.04550845703761142, -0.11472140551451224, 0.14543587434940908, -0.2016873936798335, 0.0934405514796899, 0.04503796902296868, -0.11480524897752263, 0.18137332701208014, 0.09984191989428666, 0.11943062425001129, 0.09128878369305249, -0.183260791613754, -0.032724599954767404, -0.07473322015305224, -0.023779417924140362, 0.057813937735414274, 0.10649215848909158, 0.11775682811421327, 0.020712929705067336, -0.04326206387628537, 0.1546812136943772, 0.036838379038684844, -0.07372803734923376, -0.06661296500017162, -0.07948739523984001, 0.03361371289777811, -0.00961072939053646, -0.01699645247307734, -0.23959851352304706, -0.11808732329863104, 0.10753744962665265, -0.1309530599993553, 0.04692543573632042, 0.10257804869919483, 0.16805321906110746, 0.019810080884457203, 0.17581644939499494, -0.07080719844204549, -0.07422745005655836, 0.02458687337884401]',\n",
       "  'is_first': False,\n",
       "  'is_last': False,\n",
       "  'prev_word': 'Pandita',\n",
       "  'next_word': 'nue'},\n",
       " {'bias': 1.0,\n",
       "  'word': 'nue',\n",
       "  'word_embedding': '[0.06362753306878122, 0.023327683180435373, 0.08780637797268329, -0.03661318740003296, -0.035841646568458764, 0.008993608057130979, -0.14625130173268647, -0.028384643542298964, -0.004781227658550586, -0.07864930338717513, -0.12393614161562196, -0.19437353887903905, -0.04786036727246909, 0.12106428416269911, 0.08045968242193556, 0.05714212424379659, -0.05594485024242687, -0.0071017774820966864, -0.07049045274537681, -0.040650031554639796, 0.035736846397133676, -0.006677827533400178, 0.015499100876934568, -0.053824311563740054, 0.06526111411726486, -0.02893739581245409, -0.2115422665080178, 0.1023633396481002, -0.1668693707089318, -0.14385500219712571, -0.08171553193220339, -0.020415987014169964, 0.18035451885201026, 0.003364012153611297, -0.004556047115306062, -0.030491358088814566, 0.033659329162283265, -0.024165773624329624, -0.10520420830002944, -0.006801720796900711, -0.049260050480709625, 0.024402311818669205, 0.1842107677589053, -0.0029550496770715646, 0.007252986629210077, 0.07081127934274233, 0.04931449792666321, 0.12984029887123225, 0.2523365430485972, -0.019020400136330568, -0.19227867086006611, -0.009359878542292074, 0.14171125835164106, 0.0518143295321092, -0.100278401342872, 0.02466194889475942, 0.0580982853917334, -0.082938711390452, -0.03209212357548103, 0.08905268456466844, -0.03311480033647406, -0.06675904547566, -0.13833817881362037, 0.03491980383213126, 0.03966691765990748, 0.03970099510497476, -0.1652417756165365, 0.04226845321334422, -0.25778932901304885, 0.25505917459797456, 0.019964654393500692, 0.06545963460836962, 0.03638652630572415, -0.19872606918850733, -0.06531137156624642, 0.1474697279202748, 0.09097664489816018, 0.02821781796222853, -0.08509885312791618, -0.2193155957891091, -0.11067050470311098, -0.009049783276696755, -0.1486537997800742, 0.019518555280451606, -0.06368601567292452, 0.045441373594346406, 0.09354378232373435, -0.05895622399102988, 0.1448601934719083, -0.120277644922628, 0.07605164930876002, 0.07853336916585923, -0.12405178274192942, 0.10045575553480805, 0.10999000641051024, -0.04621373962468009, -0.06802138380717429, 0.0022856032793538475, 0.09148891339307354, 0.07934909908336442]',\n",
       "  'is_first': False,\n",
       "  'is_last': False,\n",
       "  'prev_word': 'nenten',\n",
       "  'next_word': 'putra'},\n",
       " {'bias': 1.0,\n",
       "  'word': 'putra',\n",
       "  'word_embedding': '[0.19917929588433692, -0.17502921598618223, 0.0009441353149171225, 0.001354244217868636, -0.04208615223189367, 0.11682841466341953, -0.08497991226860882, -0.05640829522011696, -0.1319399755914215, -0.11875888259429164, -0.16127604787449382, -0.033283062720833284, -0.024253894765835348, 0.1807843689304267, -0.14325818358288522, -0.04456900069877319, 0.14280503789053461, -0.10809583002714364, -0.09999239167170548, -0.07572948384864323, -0.01004189014599941, -0.12865994151524024, -0.01001207036859653, -0.08538975513861802, 0.2368649674480755, -0.051918942278878055, -0.006844230032219478, 0.06134793795210838, 0.004681542293960826, -0.09561385746586953, 0.026267013498022043, -0.14540346016149708, -0.03912936300247038, -0.017128302412533238, -0.02484299896108823, -0.02265056497101105, 0.04253724462701856, -0.03169819578580793, -0.06537442550544079, -0.0416685981666229, 0.06840642986643097, -0.0676921591164926, 0.06715486677187724, -0.007908384130532882, -0.14003598862768826, 0.027945302139766714, 0.09441525162047311, -0.15569854532258298, -0.05824620221990594, -0.06258345235127886, -0.07294154345291809, -0.0857846113884937, 0.08109915613204773, -0.15101162787222147, -0.033488998475711226, -0.09174694627189241, 0.16054709894702862, 0.11245706698154741, -0.1743743063644445, 0.02358501940221675, 0.05982866221729885, 0.005301878300190865, 0.04157768236263468, -0.14782874785737551, -0.011157966931150351, 0.06950616504347629, -0.19312641517369608, -0.0030260108944105742, 0.09970553636107302, -0.02335263714475501, 0.07284931700576167, -0.09213322644579362, -0.10923780697516051, -0.003706185285250105, -0.09015346192350604, 0.07440944574158972, -0.030552003972687643, -0.03245483664543755, -0.12687833756415365, -0.009991810188837958, -0.0387396014046214, 0.05781112015028507, 0.09433405753899615, -0.1763796833031144, -0.12438648830629917, 0.0762234417808894, 0.07523552044068921, -0.0004392048955647243, 0.06811129541204955, -0.050148060050642096, 0.2699241472894859, -0.04123958460176018, 0.00831940081329779, 0.09897292169415778, 0.29768303644188004, -0.03938987292220037, 0.04778259632627584, -0.1096971686246719, 0.031017080507203705, 0.1009411209299118]',\n",
       "  'is_first': False,\n",
       "  'is_last': False,\n",
       "  'prev_word': 'nue',\n",
       "  'next_word': 'tur'},\n",
       " {'bias': 1.0,\n",
       "  'word': 'tur',\n",
       "  'word_embedding': '[0.12695865992183747, -0.09135345529222444, 0.06338612994993893, -0.05136434048833302, 0.11023938198665494, 0.038224326047344076, -0.17456638041458616, -0.08221593728475482, -0.06366291591058088, -0.02676978209983652, 0.009542189810486958, -0.11751080450317382, -0.22507569532416036, 0.03782349175148318, 0.11228537917373618, -0.07375188662929526, 0.08905881757847606, 0.11759602466820449, -0.019134969932671095, -0.09516575771191699, -0.07558212822657186, -0.032072064633618745, -0.15211716966589944, -0.07382410118528923, 0.007451910297380822, -0.028615194798537184, -0.03514161842871148, -0.07261306636245755, -0.05116532755727434, -0.0423478028134791, -0.0032756311709088277, -0.21599741595563185, -0.14250912027916637, 0.12720849419437208, 0.06797633406257209, 0.18037527734052164, -0.016149577022405135, -0.045688831881264824, 0.0491870556298805, -0.13032098781161952, -0.007511113441355792, 0.029743996075215228, 0.010482462559214045, -0.021542052585398524, 0.0385876991024863, -0.05950031699748886, -0.011424969905133612, -0.15343512381409086, -0.03311070657462946, -0.08714816524049772, 0.014543200002266332, -0.09449039017627343, -0.0661435651933932, -0.25856031854749495, -0.07555722252716947, 0.004200417839937723, 0.08203977509958504, -0.06890180316518973, 0.021840310743498997, 0.11031347774261835, 0.03854893651416583, -0.14018764106889256, 0.13197280273471867, -0.19205372534106904, 0.1155605956410539, 0.03396711492372365, -0.08729632038206414, 0.18654135922326973, 0.09761706277560829, 0.11049899993374525, 0.07415739923385545, -0.1955744609695144, -0.015383889822725823, -0.07610250071265397, -0.012743418437435747, 0.045153504345278206, 0.0924182588820282, 0.13684095281422637, 0.0387329932205967, -0.04592288548682518, 0.178264310286734, 0.04105325990076978, -0.08345068368549784, -0.06318952228321026, -0.06500434575551925, 0.004577445420771985, -0.013736239466466274, -0.01357442967415004, -0.270844552206568, -0.11422598423846521, 0.07551122734268541, -0.1474913322530611, 0.0699684773988054, 0.08089694146004767, 0.12504919656735303, 0.010630007904345453, 0.1580932403131063, -0.03343466142187615, -0.07776729695653237, 0.022805888581257636]',\n",
       "  'is_first': False,\n",
       "  'is_last': False,\n",
       "  'prev_word': 'putra',\n",
       "  'next_word': 'maning'},\n",
       " {'bias': 1.0,\n",
       "  'word': 'maning',\n",
       "  'word_embedding': '[0.11656218621499466, -0.0908251039006649, -0.17475164097636342, -0.07858935465983233, 0.027927332613739076, 0.02467032755780697, 0.031981554845037154, 0.19243662554927873, -0.001142680928301962, -0.13988334460153523, 0.038135399395592316, -0.07227513848463232, -0.028307529600588483, 0.10812400397769395, 0.0484290246176375, -0.007976854269108952, 0.15104909323558766, -0.1507718915885283, -0.13990555951410813, 0.04649165756116724, -0.012403797872382072, -0.0705910365469628, -0.00792796372654922, 0.13617121130245355, -0.18662214552951242, -0.014114319059171102, 0.062268091827634035, -0.07184212246317992, 0.11602614391552783, -0.21354687619721033, 0.22510100084030527, 0.0018540075443511995, 0.09175503364224648, -0.033405204355575084, 0.056038422565821304, -0.1153492719641236, 0.12043104137737665, 0.06375572359486457, -0.033405313097432235, -0.09024655324308907, -0.21246330911709677, -0.13939932395647622, -0.04923561988330312, 0.19386943859347566, -0.012995577600632023, -0.08688732093510194, 0.21549631491648652, -0.07350396304370359, -0.09398725816584949, 0.010870574879421363, -0.007715265726339055, 0.24348835612002107, 0.02307702050597557, -0.011486552585953415, -0.019188504120525567, -0.03883144675800323, -0.09455545521675106, -0.09731697092098758, -0.061232184392199684, -0.011742791631555156, -0.16944661025042534, 0.03603972812806652, 0.19011623383333112, -0.04102860488730397, 0.028550995973633413, 0.010723989497123665, -0.019715236769215237, -0.03072404864636875, -0.09698705894838963, -0.011917389434313802, 0.1380851639464199, -0.038943771200421216, 0.08433752783379046, 0.08733482813207999, -0.24973521486342146, 0.10578080519253225, 0.038368802941412344, -0.0997465843262101, 0.02326787971183545, -0.003810009072459834, -0.12379889444303938, 0.08010481576548496, -0.013253911356548803, -0.027505371568670542, -0.057760174101872355, -0.004822978980361366, -0.08494085364580409, -0.061702688201040856, 0.12393440918718777, -0.14381480846608355, 0.11367228813862328, -0.004253110225461294, -0.022275100355944294, 0.04563052568598112, -0.0011094203227063216, 0.020638432673034425, -0.07206005562082705, -0.06055343655335332, 0.08078042695095568, -0.0016436301162023404]',\n",
       "  'is_first': False,\n",
       "  'is_last': False,\n",
       "  'prev_word': 'tur',\n",
       "  'next_word': 'sane'},\n",
       " {'bias': 1.0,\n",
       "  'word': 'sane',\n",
       "  'word_embedding': '[0.12859646238492278, -0.09800071429531289, 0.06318792093051614, -0.05466791173752636, 0.11376755490258347, 0.046874602123430066, -0.18366301936541085, -0.07891753540325025, -0.07380124968446149, -0.02981219388927245, 0.003079678403789262, -0.11598213614691272, -0.21840311442163063, 0.043619349179062475, 0.10327488444874357, -0.08400029107340361, 0.09108979021917875, 0.10369211745267153, -0.026884916361424913, -0.09701765624858573, -0.07797272316700202, -0.03894537885201598, -0.15200393227143583, -0.07431152393813867, 0.019133126425183965, -0.025085534402243446, -0.0336771433657111, -0.07063998710787826, -0.03588910482734751, -0.04657252465969533, 0.001155340928734886, -0.2174407841937541, -0.14247989236645486, 0.12050383832926051, 0.06896168348894523, 0.16385443786260143, -0.01358791162114044, -0.05431633800149964, 0.0454180159289768, -0.1370200774866534, 0.006551351197863913, 0.027769341261234783, 0.02150802935352523, -0.02091199381874117, 0.025559530945414213, -0.05526214251066766, -0.00387527893922705, -0.16264071949611192, -0.04230434829265066, -0.08941243458064094, 0.0005659512854718054, -0.09130914050450567, -0.057265166905430105, -0.2581431040353715, -0.07477277365244113, 0.00842515015364096, 0.09201352183413201, -0.061750705873275254, 0.0129514518781227, 0.10466449405085716, 0.046950547178190576, -0.13230131538884543, 0.13279871545101155, -0.193192934261066, 0.10985585319646528, 0.03884843005549089, -0.10001756926261801, 0.18636820922498765, 0.09601568830889405, 0.11115094053112388, 0.08540968131661479, -0.1901729246526214, -0.017450869080251258, -0.07552077351854299, -0.022786756017730555, 0.04649047598621832, 0.09789172112654668, 0.1305533971425463, 0.03403633738065367, -0.050375398638201986, 0.17042043203226273, 0.0340982458211901, -0.08109178932153324, -0.06494845242174146, -0.07157701099720289, 0.02009623338601514, -0.01507258036786299, -0.015921216637118544, -0.2588623095173062, -0.11605075582428089, 0.09286358882928039, -0.14011459307800814, 0.05883778465475009, 0.09571906783801469, 0.14451223898314644, 0.009049624817807658, 0.16340949212734182, -0.04440542516454499, -0.0789546886594425, 0.027094943076931916]',\n",
       "  'is_first': False,\n",
       "  'is_last': False,\n",
       "  'prev_word': 'maning',\n",
       "  'next_word': 'mangkin'},\n",
       " {'bias': 1.0,\n",
       "  'word': 'mangkin',\n",
       "  'word_embedding': '[0.1434055799269886, -0.12030742223174844, 0.06689027603393621, -0.04790659255825558, 0.0858652275907003, 0.05873497081317403, -0.16834461650092608, -0.07991309958007428, -0.08091987122049707, -0.06373556608864303, -0.03667838668575586, -0.11715670939629783, -0.20354950188572124, 0.07735845780241202, 0.04214880207576688, -0.09572846997761063, 0.10642298899062333, 0.059521858945370036, -0.06163842211539346, -0.09976391114608302, -0.08673439523204927, -0.09054204940607725, -0.14583654530089288, -0.0582548941373043, 0.05463835641052264, -0.028099311487573615, -0.01338319298828827, -0.07960267722805932, -0.035380817583105476, -0.044642154495958423, 0.0074605695099035346, -0.22138272551463845, -0.12507839787719063, 0.1080581684188002, 0.05663164409483363, 0.14357417141569337, -0.017380189012075074, -0.06551750856439569, 0.0423343074900273, -0.15352266804726356, 0.030034155295142473, 0.008319895406592762, 0.05629711398905952, -0.008148270324128896, 0.009301174599558058, -0.02826203793322629, 0.011745511410106817, -0.1518043946509859, -0.07927039136617944, -0.10091625600848315, -0.021907764016596325, -0.0992842423275058, -0.02746560126874612, -0.2626986272698869, -0.0464171148436526, 0.007020773041549785, 0.11815165099997285, -0.03123278308581199, -0.021975654082209566, 0.09410890216494273, 0.04646304440238927, -0.09870624536693631, 0.1307939021740087, -0.21104325253793635, 0.08015421652520029, 0.048435921483714325, -0.13856091920385843, 0.15159753074916968, 0.11534463363855374, 0.10139272645023176, 0.09545517452989305, -0.17075160789647664, -0.0456115359840371, -0.0791790437294024, -0.05174538384526575, 0.06554270875467053, 0.10198263007226786, 0.10147295742652604, 0.007380808842183397, -0.05748814534172811, 0.14146169966878877, 0.04797688869561942, -0.060808169047645, -0.10355725344601091, -0.07783987225445495, 0.02768047901873669, -0.009951562879558593, -0.01777126459127458, -0.21545082688455483, -0.09978232433347053, 0.13940456038683585, -0.1265646956839264, 0.05661388198773268, 0.09580052467269246, 0.2121606662016914, 0.012121473101074453, 0.17997249868670698, -0.08657694265452635, -0.0657486029015212, 0.0359564392197558]',\n",
       "  'is_first': False,\n",
       "  'is_last': False,\n",
       "  'prev_word': 'sane',\n",
       "  'next_word': 'galah'},\n",
       " {'bias': 1.0,\n",
       "  'word': 'galah',\n",
       "  'word_embedding': '[0.10572880700211523, 0.0392334578833828, 0.024066291680440426, -0.013032194651114132, 0.10558880337374837, -0.08388462677279629, -0.08489680343882292, 0.10888399131411569, 0.09288965246022186, -0.15334630109640565, -0.11329902545483683, -0.15819069553742082, 0.02206917345244382, -0.07865843708865156, -0.07376224061150233, -0.14224185805167905, 0.045744799769320034, -0.08757996778078783, -0.10604228791787726, 0.04196418891671623, 0.056588287329185485, 0.06215299796228512, -0.0233618264816242, 0.08520457630033175, 0.04214457296264598, -0.271791799154811, -0.04057486298348122, -0.005013558709904902, -0.03566931454934944, 0.13631992316572378, 0.03295464179774781, -0.17472489177366987, 0.0205310946983849, 0.029097818087562125, -0.08931125235314127, -0.10147636806886892, -0.02129246023177282, -0.09640403624789846, -0.1943205496785528, -0.027661756714807337, 0.005589519944449698, 0.17045420699623737, -0.025991417993860077, 0.07698222846065525, 0.015966455800626857, 0.04121553540219144, 0.1509538434954827, -0.07881478421260607, 0.03405800406805921, -0.0798672844994093, -0.04454682904408034, -0.06136763969462895, 0.13631482704944176, 0.13933413224256752, 0.0710419101424608, 0.03555400221129818, 0.2719805785650428, -0.08854092634666433, -0.1326669656800877, 0.13070664357963085, 0.1667012371311623, -0.04168058160286885, -0.03890154985980519, 0.05634026955811216, 0.0401219551327449, -0.042938853377420004, 0.008522910770027448, -0.10125341303063982, -0.04224647862388638, 0.12205474593529356, -0.1334943595825892, -0.021595719029383002, -0.021208182483203067, 0.03518447688303084, -0.04341766499700606, 0.1414875951671879, 0.07396647145285319, -0.08438928727234779, -0.1425279181225497, 0.1206276983663722, 0.07035410662173082, -0.0489134403511708, -0.06513901558872905, -0.042979240144962426, -0.12613658099170227, 0.08692007697314394, -0.14774928028766593, 0.14730908856996802, -0.03617059937808969, 0.07581405646811798, -0.07568961399312524, 0.13102402296658427, -0.03510895229221186, 0.02830782068846522, 0.1541985156784972, 0.014808138496381032, 0.05474470924141199, -0.12088413714903423, -0.17674731863530654, 0.18078620163829315]',\n",
       "  'is_first': False,\n",
       "  'is_last': False,\n",
       "  'prev_word': 'mangkin',\n",
       "  'next_word': 'Ida'},\n",
       " {'bias': 1.0,\n",
       "  'word': 'Ida',\n",
       "  'word_embedding': '[0.12802963769592568, -0.09470910105301544, 0.06139852819410858, -0.054358551473966496, 0.11671663385535151, 0.04045809973650273, -0.17662969494162628, -0.08049307344409574, -0.0710020470033964, -0.028102985979472684, 0.00879020878592884, -0.1173635912010797, -0.22198816966150645, 0.040702041718931214, 0.10875735715484779, -0.07891744828346528, 0.08985182449962582, 0.11235223579841545, -0.022969656567691715, -0.09569019920731069, -0.07572507006419099, -0.03743785926066716, -0.15190643072199644, -0.07723722185744933, 0.010789628659614345, -0.02615682716581088, -0.033844622728499245, -0.07238247844702965, -0.042758350182479324, -0.04233976831242637, -9.814866838450413e-06, -0.21976935532590153, -0.14002771960393903, 0.12181552579091724, 0.06905965932029354, 0.17090565186997847, -0.017445541386723256, -0.05085808347232365, 0.04812558292906505, -0.13200013210191341, -0.0015469851843572763, 0.02685410778941524, 0.013084490314943955, -0.021641923438557663, 0.03428981660584064, -0.060041785136307146, -0.007481548083307188, -0.15979189506542474, -0.03829308649722475, -0.08785579200298584, 0.008103576983507454, -0.09450030838079157, -0.06300149764258385, -0.2586019314678525, -0.07478990290749843, 0.0063422626558933895, 0.08794149652042192, -0.06703890302275373, 0.017263182454730904, 0.10820629383518893, 0.04279936200747221, -0.1358734231447544, 0.1329075348613271, -0.19034033784172652, 0.11279262423623265, 0.036179237970971716, -0.09443415157901065, 0.18546454914471733, 0.0992540390324752, 0.10969286651567915, 0.07829229000129548, -0.19217976643371357, -0.015804585457070013, -0.07505745429216067, -0.0161596386552306, 0.04760515348297069, 0.09518805212183427, 0.131417676570514, 0.03655139634628784, -0.047143481312643454, 0.17585479726956948, 0.03933249689072797, -0.08277343266485555, -0.06328245693055334, -0.06808027834396302, 0.012335166972639198, -0.018569236612370643, -0.015267446674350819, -0.2646062349260467, -0.11776146072503395, 0.084422222412897, -0.14501066620349945, 0.06399876107060369, 0.08729471028828806, 0.13541791245713602, 0.008239039819201712, 0.15925105169898743, -0.03970829780245023, -0.07614088251634155, 0.024247038015579914]',\n",
       "  'is_first': False,\n",
       "  'is_last': False,\n",
       "  'prev_word': 'galah',\n",
       "  'next_word': 'ngaturang'},\n",
       " {'bias': 1.0,\n",
       "  'word': 'ngaturang',\n",
       "  'word_embedding': '[0.14000446982383508, -0.11541418284883675, 0.07224278467720745, -0.04700342859748935, 0.0831101803138458, 0.043420754943822505, -0.17704803561115, -0.08754812854126018, -0.06809788071746026, -0.04498671926320879, -0.02046926024482854, -0.13001115658582296, -0.1995671633215474, 0.07892092857716743, 0.06110100102766897, -0.08651604675194052, 0.11055829300326024, 0.0724088492098535, -0.06482756773520161, -0.09555310874276018, -0.08051378596381482, -0.09411197671212189, -0.1487989211570038, -0.06658860716949043, 0.05259725828210358, -0.023241318336995158, -0.015114772701788815, -0.07041448327768224, -0.045771777939199426, -0.04818782942205357, 0.012911011505856898, -0.21245977599577584, -0.131997623779919, 0.11778575714858808, 0.05327566682066171, 0.13635394007829024, -0.0174775454580037, -0.0586707608271131, 0.04023714933206298, -0.15665408734765687, 0.038417712079201125, 0.004450423953767758, 0.047493126364995676, -0.009311256317035412, -0.0023880974860004344, -0.039916121422914286, 0.03189937942493913, -0.15430567634174397, -0.06840730493427315, -0.09711745033976689, -0.0024438153350685274, -0.0935560314872366, -0.03806474959174625, -0.2735729159067372, -0.05654483319722375, 0.005891844795972004, 0.11707901600932122, -0.05251767218115721, -0.005955822365801662, 0.08898550247979828, 0.04907343686870392, -0.10533084159314027, 0.1325447128629554, -0.19955988014927692, 0.1032090690826758, 0.04265946019850699, -0.12027902822452188, 0.15548597180257123, 0.11014705909434036, 0.10223105983669756, 0.09616270026133306, -0.1698647386982221, -0.04805058292828612, -0.07586035587956437, -0.021559083216013977, 0.06889732316795537, 0.10771471981083075, 0.1109313942993514, 0.025337588703511976, -0.04483035020615031, 0.15689926142599772, 0.05025331728702765, -0.06737538846959346, -0.09015672875879104, -0.07688460211103587, 0.031216234288318864, -0.018707832466948432, -0.015851986990858956, -0.2419370663787812, -0.11241384797022835, 0.12279500986044721, -0.12404570903872213, 0.05674865441069803, 0.08454903654418672, 0.20679481886035078, 0.003378152847051876, 0.1578320402118721, -0.06803306348118435, -0.07050814399875036, 0.028776938430162994]',\n",
       "  'is_first': False,\n",
       "  'is_last': False,\n",
       "  'prev_word': 'Ida',\n",
       "  'next_word': 'caru'},\n",
       " {'bias': 1.0,\n",
       "  'word': 'caru',\n",
       "  'word_embedding': '[0.0191467177357189, -0.0076629616120888, 0.042356668011954826, 0.0016649988448230312, -0.08951738627673836, 0.10984376514291105, 0.052429290816377205, 0.14193048850229179, -0.026460615293039294, -0.03144839012835286, -0.19514148589992036, -0.14424532278900584, -0.04185380557267085, -0.05271213325669557, -0.023023581303265716, -0.13649055176395603, 0.21530665739715385, -0.15838782069005475, -0.149713715562342, -0.0022576727731556715, 0.02717292875518763, -0.16143495041592368, -0.22730817893182284, 0.04428017893357344, -0.030719844241119416, -0.049529245875303156, 0.09161754119961486, 0.0012683176785188738, 0.1881977216659581, 0.12824769249946924, -0.00428856201084502, -0.0705321125726565, -0.177179974388257, -0.11484627738059137, 0.055299095801613116, -0.12279746603459929, 0.120178552382007, -0.12415214864162628, -0.04564501487502013, -0.14940793461869026, 0.13428930470744124, -0.012019421225831491, -0.02527800924835389, 0.21100180427780033, -0.03938027107228734, 0.05936841479922561, 0.06462970058510882, 0.06813942093736476, 0.054516592544360004, -0.1062287586019469, -0.0050054695455871955, 0.01268973919272742, 0.012331013002751025, -0.08153927199745507, 0.11403531482866586, 0.04046903651570935, 0.27793322903590606, -0.055181050938316045, -0.14399805359110318, -0.08745002175438094, 0.027274871656682857, 0.1736440740595358, 0.07545386248019338, -0.12091742351640361, -0.06443975963922731, 0.05740657655289791, -0.01703269723816333, 0.029300174385863135, 0.12986809225305446, -0.021971430102183064, 0.06852554127712217, -0.10131118986666253, -0.09097321253658769, 0.013329498715560124, -0.08007496316312984, 0.12881795982633787, 0.04979757132584939, -0.15151650839292197, -0.18810334655862676, 0.03170569016384663, 0.007656280945129375, 0.02273955397346955, -0.019344156791253755, -0.0780014907967868, 0.025084525068951292, 0.03641994433136517, 0.11218403709909992, -0.0636230140606511, 0.02756633460126041, -0.008285384552893214, 0.10569523005120166, 0.05675869464134233, -0.05938006425477654, 0.06442244394733068, 0.20720520519623392, 0.008106977737852588, 0.009297488531100906, -0.08648776084272014, 0.0025331439606000863, -0.06576916452236271]',\n",
       "  'is_first': False,\n",
       "  'is_last': False,\n",
       "  'prev_word': 'ngaturang',\n",
       "  'next_word': 'tetadahan'},\n",
       " {'bias': 1.0,\n",
       "  'word': 'tetadahan',\n",
       "  'word_embedding': '[0.16835262846744586, -0.09675614625155328, -0.0053933673101979425, -0.08980331295261466, -0.0005035690693794613, -0.0032157597698456775, -0.011818385054071892, -0.04125213151166679, -0.014963711312673269, -0.013200609810531115, -0.15222132709933817, -0.016140735753862028, -0.08636710355772086, 0.2267148548370581, -0.12267391026675105, -0.09969285426968623, 0.0292144115352998, -0.07290262080481306, -0.13595404431216537, -0.10153589069935987, -0.08118555640532517, -0.16096031583587664, -0.023238580380449018, -0.012168243438464742, 0.054307647937574303, -0.05002999395221115, 0.06272840019531324, 0.07155615320822294, 0.11172661883236858, 0.032649119381247406, 0.1683837265181238, -0.1097725864166193, -0.06928262165856308, 0.00722255726342065, 0.05322319450280394, -0.04503251922365922, 0.03870359522571545, -0.07414770052484745, -0.07127558178699377, -0.07217981842809505, 0.1301062888385411, 0.012001453031045857, 0.08486665870623182, 0.015876534556738715, -0.06029863847245043, 0.18383168325490887, 0.11116313887409117, -0.04568848647053573, -0.11865841622752525, -0.13837082938831916, -0.12055670036898049, 0.01607460311651401, 0.024037964355209416, -0.12357456341691787, 0.07225868355913963, 0.0025151925421866375, 0.16297328569377859, 0.14887717184224775, -0.10448129913010101, -0.028575618227593667, 0.02935774553535391, 0.10983314921756487, 0.06291323026443736, 0.013004867626899546, 0.0047356591390329775, 0.11648890371094792, -0.17686101195395637, -0.011676033512071521, 0.09203685397109386, -0.09630038225158892, 0.05822445273805164, 0.11061881580903027, -0.09392972599316039, 0.025699563914122016, -0.030751669445286886, 0.06536618315607438, 0.03657851579739609, -0.043673171510154006, -0.19669122748568696, -0.11051071694010935, -0.16352502896582297, 0.016139661984040477, 0.019874337963296233, -0.0929009157305993, -0.05000526788095848, 0.1137906568549323, 0.09008443097754916, 0.1527713399041836, -0.029076513524405333, 0.04224008848133358, 0.18794636518758737, 0.10076629423730926, 0.020488219380839175, 0.18219631610917394, 0.3092881124113801, -0.0010313759989073142, 0.13744980406920745, -0.08546337227619664, 0.072078557140643, 0.1383122401595633]',\n",
       "  'is_first': False,\n",
       "  'is_last': False,\n",
       "  'prev_word': 'caru',\n",
       "  'next_word': 'retune'},\n",
       " {'bias': 1.0,\n",
       "  'word': 'retune',\n",
       "  'word_embedding': '[-0.09989763677371982, 0.07584673498255307, 0.03679929211733194, 0.11324581151528984, 0.059896317392816874, 0.02345479772286502, 0.11719102248118651, 0.06105932797835467, 0.10468106100209186, 0.07613463586364923, -0.07115198429441828, -0.03276307766735661, -0.02501464159921347, -0.11163411595004244, -0.04106716800730259, -0.15190960106681453, 0.04416135608369197, -0.12959269873680154, -0.12085865597735627, 0.02443210063965378, -0.09226290210566948, -0.15367454793038404, -0.11759291888521878, 0.05857645410234553, 0.2704517559983878, -0.15253674931055336, -0.15281941508067964, 0.03353857097601476, 0.2206564428613686, 0.058568252858772644, 0.010197682863473901, -0.016803800771557516, 0.0025074598797931416, 0.09699016875438471, -0.06428656201598806, -0.15804576123630062, 0.007671406910723207, -0.07973448456850166, -0.12401324054534335, -0.044055668953108064, 0.19311514583830633, -0.1679051708490917, 0.002701413596209714, 0.06565435288331074, -0.18686442154953986, -0.007168984596464929, -0.015850679889239116, -0.05016463065017431, 0.0676621262374516, 0.00210987808505044, 0.037006101036743386, -0.05240567493966696, 0.08479823816967043, -0.14052608314149373, 0.07396970540308985, 0.10725900526778277, 0.08716978262820452, -0.09416703147733683, -0.03472374679756868, -0.014536173242934701, 0.03475394232120331, 0.1349905073988997, 0.05280866212537689, 0.10554019971731356, 0.011885910785746592, 0.0917811973248802, 0.19495666286805433, -0.06014137711940633, 0.00779765156079925, 0.033980088586685483, -0.1506920648742174, 0.04967112035701644, -0.08694825716674966, 0.044383245769287843, -0.07566339860010096, 0.16981766595510117, -0.04991139016661792, 0.013069918873651722, -0.17114036227811338, -0.03067954699843082, -0.06267125137812664, 0.007586433227263443, -0.1118032557574719, -0.1367542112112818, 0.11957796269239002, -0.040424857173237565, -0.0671418569550626, 0.10521064660879678, 0.22698723634203244, -0.00014544080470796461, -0.12215208046474485, 0.06095529145767169, -0.028932347878995332, 0.09892332959355372, 0.13681744368502613, -0.11962672565238636, 0.020531480863631636, -0.09684617845452785, -0.039931742217050835, 0.10903755269269139]',\n",
       "  'is_first': False,\n",
       "  'is_last': False,\n",
       "  'prev_word': 'tetadahan',\n",
       "  'next_word': 'ring'},\n",
       " {'bias': 1.0,\n",
       "  'word': 'ring',\n",
       "  'word_embedding': '[0.12716843561160723, -0.09464550276082, 0.06180709789403261, -0.05410525112824379, 0.11621442224554161, 0.04582709298974156, -0.178448953549361, -0.07840522552105769, -0.07317773076610878, -0.02886810988533019, 0.007923994078829693, -0.11834283504226945, -0.2213008981549779, 0.04159193488589718, 0.10776686452408668, -0.08328552081697702, 0.09081773986874817, 0.10673900960797693, -0.024987929542372916, -0.0974228413683935, -0.0752662587049117, -0.038937971217398136, -0.15210538800461584, -0.07640847576354466, 0.01544291831702597, -0.025826867543889433, -0.03670306617882183, -0.07054249519092992, -0.03797796566768678, -0.04112027638155676, 0.0014195313612084845, -0.21983730139791055, -0.139011769948702, 0.11669525965036011, 0.06855771095821975, 0.1677236598961865, -0.01479993084305566, -0.05229601708065783, 0.047479653390169504, -0.13686988541470896, 0.002512270200362221, 0.02743320725422266, 0.017385819321649912, -0.02037247317231628, 0.03197558620583235, -0.05871111688132296, -0.004171700559251165, -0.16130104232991943, -0.04142024473721873, -0.09289452298245995, 0.0016204579155484524, -0.0937351641894436, -0.05891421727076954, -0.25772968838841737, -0.07402648874738749, 0.009839860023699366, 0.09149444002827309, -0.06435283610875572, 0.013650260983254121, 0.10658836647726766, 0.04647221268366016, -0.13259359866186082, 0.13326903401808127, -0.19066149097815324, 0.11260746077440816, 0.035406520706866805, -0.09799594452806137, 0.1865700030720768, 0.09610943609080284, 0.11087862061012535, 0.0841968079181033, -0.18931030472053087, -0.016430840758753205, -0.07457086256362908, -0.019010508231413717, 0.04773423384476228, 0.0984696800313181, 0.129903602540451, 0.03425833080615492, -0.048092937067105705, 0.17108728565413905, 0.03668050790645008, -0.08070274972634275, -0.0631979645463561, -0.06903965080520343, 0.015338483419010302, -0.016793517243821696, -0.01392748401071899, -0.2630126770168916, -0.1182024712112304, 0.08776802115460292, -0.14160441470578308, 0.05768404915167358, 0.09163028346928358, 0.1415358131448908, 0.011236611690414934, 0.16323024322361615, -0.04202860201907956, -0.07983832377895729, 0.026307969933981618]',\n",
       "  'is_first': False,\n",
       "  'is_last': False,\n",
       "  'prev_word': 'retune',\n",
       "  'next_word': 'Medang'},\n",
       " {'bias': 1.0,\n",
       "  'word': 'Medang',\n",
       "  'word_embedding': '[0.08540251203991961, -0.08361381936429277, -0.021905891938552496, -0.03811830076916306, -0.023316421149043903, 0.12269194502979308, 0.029308720532028994, -0.020942815161850512, 0.05351295764223599, -0.14472910760402088, -0.12152896227271423, -0.05511027708164859, -0.10400355849720107, 0.16825056605534097, -0.07438743749386405, 0.011283341117799774, 0.04879005280411979, -0.16419301321677077, -0.1675427476108213, -0.16104064833864828, -0.01054831035479043, -0.27740665593061214, -0.1243231883142134, -0.11134960123855638, 0.009860148755832897, 0.06315665783749064, -0.07968663216690913, 0.031206648158068017, 0.0747081749587283, 0.04094286180522237, -0.07023785119455545, -0.00899865361965896, 0.002663493405009348, 0.061004496241051046, -0.01872439112256168, -0.06840975963705918, 0.00034743703058350787, -0.09253312775597725, -0.20681628690944323, -0.1704338888853105, 0.1875299337954945, -0.12542155967997554, 0.04471899277861705, 0.05804520520149357, -0.07237002759503042, 0.06314276066369935, 0.10618155357211975, -0.004904282798307657, 0.013254501896857935, 0.003372529702170957, 0.03832812941875309, -0.11563030633772714, 0.036356314326526626, -0.08643559822395859, 0.09925501686859907, 0.04911767157741323, 0.1675054723582287, -0.000510092014383067, -0.175779899866473, -0.1408225465354856, -0.046735835478692526, 0.12935175856609227, 0.020888445914087506, -0.0803189248552674, -0.08382167915726484, 0.1274924025626213, -0.05506503813016271, -0.02020961783259606, 0.06648182187264998, 0.11290344391429043, 0.07934854249853673, -0.02027670346843073, -0.07592101877823536, 0.05602747507735119, -0.08434620513339562, -0.12705981689283508, -0.026851254404674046, -0.14888837796468843, -0.09251741124721433, -0.11337068094981398, -0.0016595238658657224, 0.07650141497941647, 0.08461430118599016, -0.19666029060234896, -0.12828850234067463, 0.01126834078546547, 0.024076609938446455, 0.010173807937632, 0.027430594086037277, -0.06345767838603913, 0.057020285302077776, -0.0717587279218357, 0.02639049000712316, 0.06125205400003249, 0.29779237513973533, 0.008050553552271194, 0.14209982353691836, -0.15140082258094953, -0.12075677615226156, 0.042950377415534625]',\n",
       "  'is_first': False,\n",
       "  'is_last': False,\n",
       "  'prev_word': 'ring',\n",
       "  'next_word': 'Kamulan'},\n",
       " {'bias': 1.0,\n",
       "  'word': 'Kamulan',\n",
       "  'word_embedding': '[0.043329930110458395, -0.05168855572296757, 0.14385546107362504, -0.1440215978973425, -0.11919317421969752, 0.02267838937394257, -0.03452148738228748, 0.08857214401052342, 0.17570596974192934, -0.08559269548394512, -0.19693914118458522, -0.09408107009597638, -0.11962279640531118, 0.09562724345044965, -0.0658556717616316, 0.00213438350243772, -0.006250634568305338, 0.10240444418259394, -0.10769691357193373, -0.11638751043203356, -0.019371824271613082, -0.11148900144474817, -0.015486092447898808, -0.033829634010445975, 0.05981781815005876, 0.040418009422852244, 0.08585841133798984, 0.002675851368940237, 0.04708116826997339, 0.022617830383796864, 0.12469884701875823, -0.08743147648305759, 0.023185152417294998, 0.10168636659279859, 0.015700078099046288, -0.057371024389795466, 0.1596050559367212, -0.1255095735586298, -0.2942665966606881, -0.12963410651613608, 0.11001895434376295, -0.15837101089812936, 0.11197030896541876, 0.0196475849073345, -0.028695873926144033, 0.15554665306266405, 0.07488747721363045, 0.0015858983118545295, -0.0819539874267662, -0.01844472864283967, -0.03951265075107818, -0.04868149832241038, 0.10254646966311853, -0.11175963631698556, 0.09539009997657548, 0.17359326694409521, 0.13046672045668142, -0.03859989626613654, -0.08911189357664957, -0.10112527297292918, -0.13944762638575475, -0.059680407692384266, -0.06202825193128996, -0.15840066958928067, -0.0681874843064602, 0.17350418721309807, -0.0910767667708376, -0.08125481038046817, -0.011254308847951028, -0.009738047171814491, 0.05634923977167793, 0.08637055795094081, -0.208957418575474, 0.07986857663478383, 0.0217051515633294, 0.052015934472693946, 0.07070156116836579, -0.057138202968111534, -0.12965746106917173, -0.04461735970254567, -0.13956483456338964, 0.03856626288363615, 0.12447508470901775, -0.22941189130942174, -0.018672789865499955, -0.006998461600026817, 0.017966497084602694, 0.03999486964896706, -0.12287480383928141, 0.08895288783187838, 0.16616014696567316, 0.08768293392985535, -0.0788237995146229, 0.005078009354242085, 0.144583214594298, -0.009923168149223324, 0.039822001492211274, -0.034127132866742904, -0.04598508852705291, -0.06330017460074891]',\n",
       "  'is_first': False,\n",
       "  'is_last': False,\n",
       "  'prev_word': 'Medang',\n",
       "  'next_word': 'marupa'},\n",
       " {'bias': 1.0,\n",
       "  'word': 'marupa',\n",
       "  'word_embedding': '[0.15695612258908934, -0.12152688967469011, 0.1368628334600734, -0.09355443333358075, -0.09075336847961138, 0.10081531081031084, -0.039841548551440474, -0.05310465417945343, 0.012825328647490187, -0.061106662087102595, -0.19746848146260945, -0.1292629946859501, -0.013988817729666031, 0.12410960374401096, -0.20885681554677343, -0.16935521311677448, 0.09182470532085003, -0.05750282070197747, -0.23716367196536908, -0.013782565765373908, -0.05239628305049289, -0.17291296377870477, -0.07485548036135213, -0.0416128791059607, 0.1455907860015548, 0.0025630759057406645, 0.024894418073641098, 0.03921909338655162, 0.020837214773728116, -0.005781762901452342, -0.0551062261825197, -0.13716783984353187, -0.04006773523531753, 0.11558713447370399, 0.049753682197015196, -0.04423935068177076, 0.05974323557846722, -0.08999008601920368, -0.06420015491790769, -0.11585786281612405, 0.040611711602973916, -0.11247727129361826, 0.14853139769129928, 0.036733362278252295, -0.13617540430286154, 0.07718107002829881, 0.04094288727960785, -0.051230448812715025, -0.06323281735160383, 0.0081235562353706, -0.023116608038018845, -0.08661777312532448, 0.07018323994465278, -0.1448501549582331, 0.1107851780845599, 0.04588458470271642, 0.18367863870852896, 0.07867154465170402, -0.1261112302332925, -0.13319829549901402, 0.022971445630051487, -0.02378492665707115, 0.08842568270580572, -0.1491976986093088, -0.0893757036360128, 0.035103827466819844, -0.2536900098165441, -0.03348783685370462, 0.09970962512929575, 0.10026115025061598, 0.07999514750442838, -0.12944182595845782, -0.0824346997872808, 0.02764963956927029, -0.07078691892515962, -0.056012044348977975, 0.12627468874573192, -0.11419319763443901, -0.06878728315899399, -0.07159404538374602, -0.04321906934797717, 0.01825195318584509, 0.08138103530974604, -0.12759443592880618, -0.03696469435797647, -0.007836894089100505, 0.03575657022465604, 0.0041368527160190235, 0.04749970421854919, 0.004205896451614045, 0.1937323679250066, 0.004157186009225488, 0.0652293652609877, 0.060674157354039554, 0.2508772879298406, 0.05438326887192602, 0.0832632242420179, -0.10828967401736794, -0.009147814609824828, 0.0639073765920395]',\n",
       "  'is_first': False,\n",
       "  'is_last': False,\n",
       "  'prev_word': 'Kamulan',\n",
       "  'next_word': 'ajeng-ajengan'},\n",
       " {'bias': 1.0,\n",
       "  'word': 'ajeng-ajengan',\n",
       "  'word_embedding': '[0.016441712990986405, -0.08407978746700617, -0.0018589147422419401, 0.021669420145146733, -0.018065377775543588, 0.03972262318421119, -0.040822572059418076, -0.0455684203636426, 0.040095207536735906, 0.0807414875510682, -0.04530342929043442, 0.09982070544973017, 0.06457751427834119, -0.023255999232708782, 0.0070488455597433825, -0.006720572071662175, -0.01445624046421249, 0.08799597529667129, -0.2277624633993531, 0.0779767332884618, -0.026355442850595993, -0.051035436329898286, -0.010246380567433905, -0.04845340295722598, -0.013937247034025727, 0.05355018593846885, 0.07489187075767885, 0.09355425998821394, 0.03396381881655443, -0.037451318910467324, 0.17065774832777053, 0.04492220125057817, -0.0025060538126584877, 0.1488975696021049, 0.06202502204889924, -0.217326369051024, 0.1426768914603525, -0.017727961575942898, -0.14920247241192533, -0.05924751640348258, 0.09389257292138542, -0.017315600655194774, -0.17581282626890524, 0.09417428813122505, -0.028423940452065928, -0.08066131692250122, 0.00675042267718824, 0.0975473859668872, -0.11649385444728728, 0.18908279987099613, 0.09408349617988929, -0.0007771474623228447, 0.11027666661482166, -0.2654350612894048, 0.12573739701042438, 0.06589457455247388, 0.1945370915953794, -0.12404904552394103, -0.09129499564652654, -0.05243576317585387, 0.05676879750309784, 0.12049694753267301, -0.062037633594766425, -0.008741060045271427, -0.23200360015018665, 0.17005523616158552, 0.03716510625155594, -0.07035115370179815, -0.14407592603654096, 0.029198319119232687, 0.05174094050516851, 0.0013394492212384966, -0.11110226079097078, 0.0865503529761753, -0.03444666303591184, 0.025081210010123558, 0.10883353791720726, -0.0012928244293603608, -0.0411910018450018, 0.0017782885914722074, 0.00381364624598398, -0.08186611365238405, 0.1546778640362521, -0.09836456313482216, -0.05211761425461269, 0.004655527779888488, -0.0364550358979018, 0.014348331843822228, -0.015840110827472515, 0.10230490766362961, -0.06994605577789823, 0.13793736233367573, -0.013446395532983968, -0.13954879511953838, 0.33026714564844006, 0.019673626457007706, -0.05313117541308056, 0.006255176675686017, -0.043067533052668194, 0.21163892006876542]',\n",
       "  'is_first': False,\n",
       "  'is_last': False,\n",
       "  'prev_word': 'marupa',\n",
       "  'next_word': 'maulam'},\n",
       " {'bias': 1.0,\n",
       "  'word': 'maulam',\n",
       "  'word_embedding': '[0.019398047829554534, -0.006949261345266157, -0.03880583640462102, 0.062419014686037985, -0.02136992143068138, 0.0463952312477683, -0.1378033827909051, -0.006600895171779211, 0.09660079532932257, 0.030271848056338892, -0.061002952365248435, -0.1960728441487006, -0.011203421734592345, -0.034504709255869834, 0.04357117679289239, -0.02123834552047819, -0.03079255287808563, -0.04993856763604596, -0.12732965833868945, -0.14307291952743514, -0.09947550420380337, -0.16282763399373354, 0.08044445542067359, -0.0011996179572165567, 0.02078724118533687, -0.021165293181478067, -0.027267502385205245, -0.08521048662863333, 0.10606369997837413, 0.052521814573482546, -0.1648830205039847, 0.04329887486186241, -0.19298527917756522, -0.04766927518936343, -0.013307673841818222, -0.13813036591937278, 0.009750242017376544, -0.08960991086532606, -0.024946312061140157, -0.1012045337422918, -0.047395562191235065, -0.059792870675935826, -0.019447690416997544, -0.05480969680985103, -0.09619070182023401, 0.12206583817289968, 0.056895421739300685, -0.01510180039630996, 0.07684254380317657, 0.03729580179624756, -0.044233483078413564, -0.010940937851929495, 0.061723024943996556, -0.020966079533623325, 0.24448398107747107, 0.17963756864631542, 0.2819919942388199, -0.1742165174542532, -0.10947427438142018, 0.032289422474948475, 0.04119970136234754, 0.10942533196321151, -0.04840000188214739, -0.1376682301592005, 0.20674467799905008, 0.23124676641983427, -0.16909142938772148, -0.06344072605510424, 0.019859864794572763, 0.018439271197955225, 0.10336819580886622, 0.09478238454317525, -0.14693170459180233, 0.10186838283591079, -0.04079774941314553, 0.012504420231763463, -0.022631240147219272, -0.13299437334215405, -0.17079238421726534, -0.1324327479100457, -0.08629572654731318, -0.07788776819199998, 0.15745245183417927, -0.014497129820686393, -0.013375293510865194, -0.07433499706689756, 0.05419212442708013, -0.11570522820576123, -0.04917126558864525, 0.06428331455587351, 0.07173593916176382, -0.06052002443925832, -0.1463281740302996, 0.08831212361996368, 0.12812843931371973, -0.016105628039804826, -0.06869486930249205, -0.10590441021043305, -0.04614620316089522, 0.12486869077241389]',\n",
       "  'is_first': False,\n",
       "  'is_last': False,\n",
       "  'prev_word': 'ajeng-ajengan',\n",
       "  'next_word': 'jatma'},\n",
       " {'bias': 1.0,\n",
       "  'word': 'jatma',\n",
       "  'word_embedding': '[0.13779992592892898, -0.10483700268245406, 0.038435010419899614, -0.020287291818946663, -0.03667358016844056, 0.10939263078505844, -0.019959061284283364, -0.02092501967679456, -0.12084196844578145, -0.06471835672316245, -0.18710262298737562, -0.12635209919174634, 0.019986073531637075, 0.1215749462215782, -0.16332595724447824, -0.053430667123505096, 0.18382291132476228, -0.11752206482831874, -0.16157347251360682, -0.03764723322954742, 0.018176197933011125, -0.2765183206798006, -0.07320752868380571, -0.08232150898040404, 0.10889252821274688, 0.07154412768762308, 0.05617057869140727, 0.022641442028917432, 0.020881359218680944, 0.0022363078087190877, 0.023031614398995794, -0.061022093263028085, -0.028892463882083472, -0.04120217887401756, 0.013907371950330328, -0.11954798498800319, 0.0922963008316166, -0.19193849854237002, -0.04624303192523845, -0.17548716025491032, 0.12046311910019299, -0.02301434819884671, 0.008924306697581416, -0.021145027441261628, -0.12202029452392224, 0.0982323912748672, -0.06419599285874478, -0.08580792434911233, -0.11801163071848357, -0.05826515632896937, -0.09298564198078274, 0.0046935956454590925, 0.0675577627225007, -0.19047698528994375, 0.11377030517410319, 0.12792300282741362, 0.21461149636078553, 0.040666062814972447, -0.1665466977650378, 0.020953074055295028, -0.0553777454718636, 0.06371425662403454, 0.1283352932973196, -0.07398904515073332, 0.005193662234288042, 0.08391533567847288, -0.14498466962996895, 0.03858731715869249, 0.0509983258621792, 0.03236234944096562, 0.10064310548392064, -0.016217837011653587, -0.1136359099477833, 0.027671665152912455, -0.10699922185029925, 0.014262074601449326, 0.01818240422486247, -0.1591311438612201, -0.22491775764010505, -0.08100275640473023, -0.03943142521342419, 0.016070561700063463, 0.05889615780897139, -0.1490745212064121, -0.051426163956000706, 0.05170967915574217, 0.08458074451793773, -0.02385403252177825, 0.024021686198845843, 0.011871695307607016, 0.11095093319862374, 0.03694994554385779, -0.02809596803364258, 0.15418253134758067, 0.2045793245972136, -0.05633724033099655, 0.046175114865455766, -0.13072610414004435, 0.027723336310651422, 0.07643373559315161]',\n",
       "  'is_first': False,\n",
       "  'is_last': False,\n",
       "  'prev_word': 'maulam',\n",
       "  'next_word': 'adiri'},\n",
       " {'bias': 1.0,\n",
       "  'word': 'adiri',\n",
       "  'word_embedding': '[0.16811471504057982, -0.07893712145742422, 0.07089866246570024, -0.02945420572137646, 0.09311929972227048, 0.08218624482384698, -0.111651589835762, 0.04907475628349453, -0.09705670843997093, -0.04181718661435807, -0.1570371973024865, -0.05527219589180712, -0.06288124841419773, 0.20271092121560758, -0.12624116732600804, -0.052394233543908826, 0.03193687161271878, -0.1351078974954254, -0.22891712037027048, -0.04715332570542826, -0.1047821078158654, -0.21868163078834038, -0.06033048998501309, -0.07243235058783734, 0.2181036393760062, -0.0737315474837445, 0.04754143586945709, -0.057828956845645575, -0.0384218199510767, -0.0054519134204490186, 0.04704074396966898, -0.013875205928165265, 0.03541046562039517, 0.09074958427419025, -0.05102058327306217, -0.09391212809145265, 0.029452548335933706, -0.15282734010891383, -0.020774922718305437, -0.07718026313570571, 0.12793717527787474, -0.1387792510682372, 0.1123553087230378, 0.10080527671257247, -0.15378117467651375, -0.01998109753450233, 0.12038699699336493, -0.02413970577038673, -0.14566202605687092, -0.1601774097766704, -0.09083729850187439, -0.07728245491279634, 0.0950836993709684, -0.21790314121283208, 0.1589518453053629, -0.018203649827827725, 0.12866167577134258, -0.007068207150755997, -0.08690992691529327, -0.0245917280048247, 0.05697218520469233, 0.05112875292480193, 0.037106905505881915, -0.12352145178383857, -0.1365385029992301, 0.021528119124547027, -0.22004500576178668, -0.06090884381646671, 0.007236713048665185, 0.01446391468524496, 0.06336800611592897, 0.024132158135476728, -0.06003439428929043, 5.286947373693814e-05, -0.11316744345857968, -0.016884954104654643, 0.06747299619536262, -0.05432993754313313, -0.14669315884869058, -0.0804202398482657, -0.03127870877731796, -0.028327275074024882, 0.14491054949001847, -0.09686222691692195, -0.0769711553303882, -0.0059872859919463265, 0.027338909118005808, -0.03508359331807371, 0.07779317667292693, -0.05474757918025967, 0.0887158716347388, 0.008804267998544184, -0.0018742331454922234, 0.12218582142796701, 0.23285115896916636, -0.09364608051071822, 0.03418722665519715, -0.09684833288583708, 0.030776471940877032, 0.09087457620004552]',\n",
       "  'is_first': False,\n",
       "  'is_last': False,\n",
       "  'prev_word': 'jatma',\n",
       "  'next_word': 'adeng'},\n",
       " {'bias': 1.0,\n",
       "  'word': 'adeng',\n",
       "  'word_embedding': '[0.2287770423994284, 0.13213222737681504, 0.04094754154825348, 0.2015501418082185, 0.03852809250952931, 0.009143946110357458, -0.09744053308402735, -0.11297483872294325, 0.03260397457320165, -0.046658372664508826, -0.22966899056173218, -0.2104786111747013, -0.1524616389379938, -0.04819453989729544, -0.20582826769462048, 0.030294123299925462, -0.011566850089692948, 0.05708578879404132, -0.06814509672002121, 0.013149690289707066, -0.01256491872247045, -0.16036496190613286, 0.00012482169565977566, -0.0839947950689106, 0.1123077445929465, 0.027993700798442458, 0.07320370188323987, 0.08549159647204939, 0.03644901384769132, 0.0488944631442947, -0.020738048887045026, -0.04038969280515543, -0.1341293475658411, 0.02701578441422174, 0.01309645202905262, -0.11222275265023493, 0.11832619840319006, 0.08124920477962772, -0.17031396509820904, -0.19651455347295257, 0.15492933506012627, -0.08345785053856315, -0.03623696753813185, 0.1072255319856429, -0.02027468534015455, -0.03592535503582289, -0.10279408148541849, -0.1570528934227408, -0.11572376131737691, 0.046927273209355205, 0.010104483654586952, -0.06950631967991563, 0.03519992726601085, -0.19541781878365294, 0.07877643698267078, 0.02730169096050433, 0.09694245995022298, 0.03377412459267857, -0.054579369688111626, -0.08350836619915214, 0.1412310942939875, 0.011297225041126915, 0.024493698102679578, 0.1887307101984661, 0.038010058997269364, -0.0150593459515991, -0.14647475600496812, -0.1757099543172564, -0.0188137071855946, 0.07362558307089989, 0.08025690295517438, 0.0012401611492746805, -0.13069262672224985, 0.07791505400770697, -0.08224463202471223, -0.014030143844510425, -0.06864994275123039, 0.047123488610148166, -0.12774565207694955, 0.031939623782322964, 0.07756925746255884, -0.15592813246549483, -0.021086150414016003, -0.07287555756337268, -0.043691430842726996, -0.010707553167386427, -0.0009179355239942234, 0.09401680153967402, 0.11977856821379802, 0.06784354773278829, 0.17410764295738043, -0.030835641453097414, -0.002496584376438221, 0.0623476239616472, 0.21819070886971048, 0.04908912041324502, -0.029911901286855665, 0.0003812808816794633, 0.015485718312935616, 0.07089713584822026]',\n",
       "  'is_first': False,\n",
       "  'is_last': False,\n",
       "  'prev_word': 'adiri',\n",
       "  'next_word': 'siu'},\n",
       " {'bias': 1.0,\n",
       "  'word': 'siu',\n",
       "  'word_embedding': '[0.07580521115948788, -0.0831059999336225, -0.0723440452108432, -0.003481211970275036, -0.014196125281362134, 0.029098209169523104, -0.0014523879384184804, -0.02775303255467037, -0.0004044482739890014, 0.008824866818407311, -0.16826304672404868, 0.049104907992803655, 0.034457435554758546, 0.07218861558792465, -0.004819291100397701, -0.03440568867135212, 0.12348827127385788, -0.0013343748850130665, -0.10021105244449272, -0.15366776633525622, 0.04965813501250397, -0.06844710551567448, 0.05674310067645851, 0.0005168817467637491, 0.15202083693427332, -0.017956170140592056, -0.09814161624224907, -0.008185578560779899, -0.14790994681959638, 0.0593180657808272, -0.08561715254170275, -0.0611260184373192, -0.11616737435941807, 0.09032880960350213, 0.07110954352601596, 0.03990891866325536, 0.05247719865710539, -0.05590042007617925, -0.11507417722906743, 0.19446987143017144, 0.012301218739904151, -0.02564303442103857, -0.08173301943237846, 0.23748739244140432, -0.13559687830535946, 0.04156747856774469, -0.057088162068102175, -0.0852663505108453, -0.008836121242609985, -0.15210814060770408, -0.05771323221268722, -0.07816577472509374, 0.17995814542317995, -0.030013448335558513, 0.014499172325983831, -0.00027876893524909614, 0.13546845249658696, 0.07249520449118031, -0.1231289576878544, -0.02339139824669287, 0.1588637994028148, -0.17805048412397967, -0.004845272011886743, -0.03736058007988452, -0.006260725305390455, -0.08400934196805566, -0.23017489947841185, 0.05871423117073277, 0.13178461560711202, 0.04762504128418225, 0.23669249331708087, 0.17906555014991604, -0.20601957687018757, -0.08429031362625371, -0.13846529344935934, 0.10661020191490272, 0.06487920980963191, -0.06874463041961798, -0.11680362544963105, -0.2476273911680842, 0.02963807675421671, 0.015552344651051698, -0.0979887608105105, -0.029664840580487243, -0.01063078674398479, 0.004909928111097635, 0.00822620721806275, -0.04272499705057667, 0.1378198837916919, 0.03247389306819828, 0.05772803971689882, 0.09470661288974531, -0.006703978944579065, -0.017883425882009245, 0.19129798938587006, -0.12241202035794078, -0.017294478403396662, -0.0034890258556584666, 0.13598349186917127, 0.1320467900986859]',\n",
       "  'is_first': False,\n",
       "  'is_last': False,\n",
       "  'prev_word': 'adeng',\n",
       "  'next_word': 'jejanganan'},\n",
       " {'bias': 1.0,\n",
       "  'word': 'jejanganan',\n",
       "  'word_embedding': '[-0.010125230507657021, -0.07075068684086543, 0.1618772648446029, 0.13931507949828154, 0.02963639892286599, 0.0160384777199732, -0.061757772393174724, 0.01717407130027652, 0.09597469538277381, 0.11962167111391939, -0.1189033953020455, -0.24740237910159135, -0.17628463438869843, 0.061287772336006546, -0.10336415755215725, 0.16519540487724904, 0.16359551690282007, 0.0187201264049725, 0.0034633603994968986, -0.010847566284385027, 0.014725413836356005, -0.18911955219196358, 0.00056859462119921, -0.0856131446044708, 0.04470758704428111, 0.057843476605401185, -0.047996412917706385, -0.1013346227011178, -0.2000119010279006, 0.1821687048487672, 0.05067172428819541, -0.006514457521741871, 0.047384918203853696, 0.05196528677749129, -0.09789474264868368, -0.022621435955757115, 0.03722884135127004, 0.0026859760806582297, 0.1142737697088055, 0.08085593940082897, -0.09090844802912677, -0.2362978493890244, -0.06371302466579774, -0.004797514628188672, 0.02198290356783465, -0.17983575025496593, 0.0001113154003897221, 0.09014910717997696, -0.07249841793528904, -0.02889157685145617, 0.06319496886893454, -0.13595101974997803, 0.04373660431883121, 0.14969757107440657, 0.12863164228243903, 0.14160726767177284, 0.032723943804756, 0.048219800073269474, -0.043654256010085206, -0.1293189155679752, 0.1549900651773683, 0.11415973369889597, -0.09945266148443582, 0.04647679729997656, -0.06460909747849362, -0.15271614729890942, -0.08491243042832564, 0.02071463942359574, -0.07908972019154613, 0.10210843313618136, 0.07423508353270615, -0.06420095114199269, 0.0005473995496016232, -0.06026142111865841, 0.1653683157866736, -0.09901241819120035, 0.04672469218191993, -0.14239694418277743, -0.08451096817040732, 0.016276930055208402, 0.07660881670737496, 0.002713567168214419, -0.01580521075095644, -0.003864292169158847, -0.08529579420325678, -0.047765666361238475, -0.005821539492673299, 0.03132050075400889, 0.15894740531563728, -0.002198624250292975, 0.007074192461999487, -0.04394440983948537, 0.008530426374925586, -0.05257488984610967, 0.19644335353326414, 0.025988286867289333, 0.18887935632026018, 0.09188316476639996, 0.04510149059460104, 0.19490727189688767]',\n",
       "  'is_first': False,\n",
       "  'is_last': False,\n",
       "  'prev_word': 'siu',\n",
       "  'next_word': 'miwah'},\n",
       " {'bias': 1.0,\n",
       "  'word': 'miwah',\n",
       "  'word_embedding': '[0.13061792218049262, -0.09819736603683199, 0.06754812220931895, -0.05102210159228447, 0.10533740750750181, 0.04401770554166024, -0.17504710852260713, -0.08052576273329708, -0.06668484870994727, -0.03462727955721365, 0.0010261333845312576, -0.11581269587838607, -0.21776076719309556, 0.04472578895553057, 0.09841053294637667, -0.07976022819910394, 0.09611179077680562, 0.10389374517171869, -0.029299148475087897, -0.0950272064928708, -0.07441541145696408, -0.049268219683671524, -0.15035191982430618, -0.07130336486962732, 0.02055059222022188, -0.029406535684471616, -0.03683827328120569, -0.06938709875187254, -0.044744272405303355, -0.047825969828458555, -0.0007093586473588845, -0.21961120073392798, -0.14045130917544174, 0.1269211901718935, 0.06697657551256524, 0.16712232620079737, -0.015381589326091346, -0.05036004908921814, 0.04935975195254074, -0.13585362179671, 0.0046715762459169545, 0.02665067022260628, 0.018496391869150284, -0.022562386257522066, 0.025975343288435617, -0.04777175475215531, -0.003915522112046044, -0.1600027264613116, -0.03815681495851593, -0.08760867569494578, 0.008509024554251133, -0.093959770028246, -0.06048643362542475, -0.2650341992599647, -0.07164979589817842, 0.006343885183053734, 0.0918216757963, -0.0632059497601385, 0.01566878179851167, 0.10575831711388034, 0.04177494920743583, -0.1337190539307707, 0.13598903080633504, -0.1943441173079824, 0.10827682584916133, 0.03691844870140501, -0.10112475871639699, 0.18199794964651855, 0.10134374782877578, 0.11142073653186972, 0.07739823275717063, -0.1940886549298287, -0.023660075308340116, -0.07606291424527509, -0.02542102614633591, 0.05003912847054278, 0.09734512290329252, 0.12918500547359446, 0.035890948875144456, -0.051165426767594016, 0.16862288495904182, 0.04344028179598234, -0.07967565397152328, -0.07084944108693787, -0.06916829782373267, 0.011350215254649335, -0.012606074981164995, -0.019927489086659422, -0.25976803626522044, -0.10863568135102751, 0.08896187042603579, -0.14472898621575334, 0.06743243864907997, 0.08835679526150006, 0.1491974073886332, 0.0048361647862874965, 0.16231184566717635, -0.0427484543833509, -0.07506162435884026, 0.029564437130437875]',\n",
       "  'is_first': False,\n",
       "  'is_last': False,\n",
       "  'prev_word': 'jejanganan',\n",
       "  'next_word': 'inum-inuman'},\n",
       " {'bias': 1.0,\n",
       "  'word': 'inum-inuman',\n",
       "  'word_embedding': '[-0.0007167218773194816, -0.02109845315077358, -0.10422441929569337, -0.08876489044833014, -0.027386259915354844, 0.16669556403399208, -0.047356540283148986, -0.010648964480157942, -0.08017224456641137, -0.12859019797823226, -0.053256799420991326, 0.03964022650589444, -0.2706583956457073, 0.03338223057043204, -0.05786096808685575, -0.22127930000565807, 0.0680785204148569, -0.06632932678826346, -0.08684193975830483, -0.10498462073516818, 0.03214378315867335, 0.016160683044443194, -0.07848119868803954, 0.0503816075408838, -0.12550410852678143, -0.03203151792994068, 0.2464665475817716, -0.17219032826476893, 0.15754695204869057, -0.051563284675982236, -0.10281713857460509, 0.014574916894288312, 0.045145399042898146, -0.05969729431272384, 0.1213094835200281, 0.08807952536902382, 0.1617798801645278, 0.00884155094027923, -0.04298572567664314, 0.12921018497505712, -0.13072338090352906, -0.01889850208548224, -0.07373245550519288, 0.10023957868472498, 0.10557207703175472, 0.026581474077142238, -0.1159925735919626, -0.02528629393007067, -0.03667797802204561, -0.03512426392781581, 0.0019788862472153693, -0.008452625780013726, -0.025379308826046474, 0.07265352601261935, 0.14977964795568985, 0.21667351564355317, 0.1442808362409403, -0.007011616627544491, -0.17232974489799688, -0.18824526378077958, -0.033803193379999624, 0.10198018104567416, -0.016802227214774913, -0.0672492811753582, -0.024213276329345897, -0.09924051333850409, -0.033888719915488245, -0.09545837137864714, -0.12482712845461966, 0.04890319084417589, -0.026192760078440184, 0.1092141087377783, 0.09548981478259287, 0.23581122389692236, 0.01052364947982298, -0.0853308952317391, 0.1073885243792914, -0.021717415768058097, -0.06629389328968896, -0.011319094243523465, 0.144789506191721, 0.14789893227299325, 0.10401282084032165, 0.02107978626019975, 0.005145226169049032, -0.11171459229195889, -0.06982305898833001, 0.057713365675994374, 0.09477790603028527, 0.03387609804827019, -0.04537692106685096, 0.004679063452986126, 0.016492110732266516, -0.11226068567916117, -0.04487540105924993, -0.026890917277217093, 0.0045600310810505525, 0.09684501222087805, -0.1052580248862034, 0.19428240106285324]',\n",
       "  'is_first': False,\n",
       "  'is_last': False,\n",
       "  'prev_word': 'miwah',\n",
       "  'next_word': 'marupa'},\n",
       " {'bias': 1.0,\n",
       "  'word': 'marupa',\n",
       "  'word_embedding': '[0.15695612258908934, -0.12152688967469011, 0.1368628334600734, -0.09355443333358075, -0.09075336847961138, 0.10081531081031084, -0.039841548551440474, -0.05310465417945343, 0.012825328647490187, -0.061106662087102595, -0.19746848146260945, -0.1292629946859501, -0.013988817729666031, 0.12410960374401096, -0.20885681554677343, -0.16935521311677448, 0.09182470532085003, -0.05750282070197747, -0.23716367196536908, -0.013782565765373908, -0.05239628305049289, -0.17291296377870477, -0.07485548036135213, -0.0416128791059607, 0.1455907860015548, 0.0025630759057406645, 0.024894418073641098, 0.03921909338655162, 0.020837214773728116, -0.005781762901452342, -0.0551062261825197, -0.13716783984353187, -0.04006773523531753, 0.11558713447370399, 0.049753682197015196, -0.04423935068177076, 0.05974323557846722, -0.08999008601920368, -0.06420015491790769, -0.11585786281612405, 0.040611711602973916, -0.11247727129361826, 0.14853139769129928, 0.036733362278252295, -0.13617540430286154, 0.07718107002829881, 0.04094288727960785, -0.051230448812715025, -0.06323281735160383, 0.0081235562353706, -0.023116608038018845, -0.08661777312532448, 0.07018323994465278, -0.1448501549582331, 0.1107851780845599, 0.04588458470271642, 0.18367863870852896, 0.07867154465170402, -0.1261112302332925, -0.13319829549901402, 0.022971445630051487, -0.02378492665707115, 0.08842568270580572, -0.1491976986093088, -0.0893757036360128, 0.035103827466819844, -0.2536900098165441, -0.03348783685370462, 0.09970962512929575, 0.10026115025061598, 0.07999514750442838, -0.12944182595845782, -0.0824346997872808, 0.02764963956927029, -0.07078691892515962, -0.056012044348977975, 0.12627468874573192, -0.11419319763443901, -0.06878728315899399, -0.07159404538374602, -0.04321906934797717, 0.01825195318584509, 0.08138103530974604, -0.12759443592880618, -0.03696469435797647, -0.007836894089100505, 0.03575657022465604, 0.0041368527160190235, 0.04749970421854919, 0.004205896451614045, 0.1937323679250066, 0.004157186009225488, 0.0652293652609877, 0.060674157354039554, 0.2508772879298406, 0.05438326887192602, 0.0832632242420179, -0.10828967401736794, -0.009147814609824828, 0.0639073765920395]',\n",
       "  'is_first': False,\n",
       "  'is_last': False,\n",
       "  'prev_word': 'inum-inuman',\n",
       "  'next_word': 'sajeng'},\n",
       " {'bias': 1.0,\n",
       "  'word': 'sajeng',\n",
       "  'word_embedding': '[0.14126688692231978, 0.0209241059366516, 0.1374322729832524, -0.02118947859720844, -0.019091967678947743, 0.040749436018129005, -0.1232510222582047, 0.021630856344820253, 0.12853268136079418, -0.19012345329206312, -0.013515955160860632, 0.014334709877527467, 0.03232457354223863, -0.011612023347548924, 0.0402950164222456, -0.02240024632197178, -0.0829040190908481, 0.08807635580117483, 0.037637568058990656, -0.055374808592725186, 0.060439693387010704, 0.1395540811596417, -0.05444605381294305, -0.0788492620610314, 0.0023247553932552686, -0.012041186458560506, -0.06834336654517698, -0.15416415978538378, -0.17086258003236282, -0.041086311781624314, -0.11105382408878281, -0.09627324536360518, -0.04427859400699707, -0.012079292755766916, 0.28760336880962845, 0.061130424258836004, 0.02571148130507198, -0.002849083238672953, -0.013485148096582677, 0.016022428031523837, -0.0517379499050744, -0.021497552555952502, 0.04690946448118438, 0.08475015844048082, 0.07327324223839513, -0.012495217738087523, -0.034603832814785414, -0.060207703149754876, 0.12212604455104643, 0.10192133442404112, 0.20572221412029595, -0.07616825736038428, 0.014419677573458614, 0.19119426024374572, -0.040190763901224565, 0.0770605752020277, 0.19370242503174495, 0.08901900304902689, -0.0724917006956592, -0.17732642559953374, -0.17422355188545066, -0.03539150442932694, 0.12457512571650114, 0.08956259253868697, 0.033350556169480496, 0.1307834478941212, -0.1471065922042538, -0.05065385974999182, 0.056154361526252215, 0.17504475603739408, 0.061935760022476305, -0.11126237264458855, -0.07847412634098938, -0.03576415474779723, -0.03346471342206086, -0.1527429863375223, 0.1773917235615788, 0.12318827469257829, -0.061109584273515045, 0.13737836795504832, -0.15089717233434305, -0.20137813129149407, 0.07576610575905751, 0.09922062068957638, 0.07900199315101987, 0.038924214266517196, -0.01975949405370021, -0.008948259791884712, 0.07142122165625353, -0.043828428870177974, 0.05274555291148865, 0.0674349010292188, 0.1822002239467934, -0.04918172852068703, 0.04288980515894605, 0.004623205382486839, 0.19158617203376924, 0.03872313898113004, -0.07120374769338939, 0.10173960362082263]',\n",
       "  'is_first': False,\n",
       "  'is_last': False,\n",
       "  'prev_word': 'marupa',\n",
       "  'next_word': 'mangda'},\n",
       " {'bias': 1.0,\n",
       "  'word': 'mangda',\n",
       "  'word_embedding': '[0.1309485110204531, -0.10028692796066857, 0.064546129267253, -0.056128891688272294, 0.11059838911429899, 0.044034148486590416, -0.17801615148581007, -0.0796818702909189, -0.07377856861202119, -0.034576876667009045, -0.0022456697257376423, -0.11764207621239696, -0.21300550415271752, 0.0557112006111132, 0.0992385557174621, -0.08513972314907481, 0.09390151206235571, 0.10294137866880756, -0.029896791293857177, -0.09872949994700947, -0.07164742639065745, -0.04677936813903323, -0.1532363364356056, -0.07947301258400212, 0.025338404352037096, -0.02234036806512106, -0.034287508629537417, -0.0736017309422604, -0.04070386842914157, -0.047881988307461584, 0.0034838591945619774, -0.22499229986491442, -0.1354497454277279, 0.11966652219151191, 0.07313665466415327, 0.16453651828816418, -0.01489919738191681, -0.05997744588283331, 0.0418332947486543, -0.14130801997415476, 0.004563861498135032, 0.02154967860910246, 0.021604555491791473, -0.02281203773206175, 0.029004425060240525, -0.05379784828326097, 0.0008666133512209549, -0.16524799898148904, -0.04446226583599253, -0.09352216116379068, 0.001097416898697663, -0.0935697184175876, -0.0542199090376529, -0.259788637753095, -0.07196872877568418, 0.00795356961253282, 0.09456439201083455, -0.058782715849671825, 0.005016786791677393, 0.10150183124666091, 0.04512440705500949, -0.13069351717727534, 0.13320694159735508, -0.19038677683260927, 0.10479523155826664, 0.04136669595444621, -0.10524791499959503, 0.18382354969577436, 0.0988670600857542, 0.10719074315684907, 0.08194357060041785, -0.18773162762296575, -0.02815517233731243, -0.07498771309678119, -0.025221816819570836, 0.04619566409084061, 0.10079639579529026, 0.12256177656546599, 0.025494167237955626, -0.05042853082127819, 0.16566714584779604, 0.04429934425977817, -0.07145429928921139, -0.06621973825290436, -0.07471478225630174, 0.019300369184677438, -0.019275701862274973, -0.014502755388476134, -0.24993504621573293, -0.12057004763353561, 0.09561349006388695, -0.1416614147379831, 0.06285542410608233, 0.09097247664310706, 0.15449127064731868, 0.008428171242105357, 0.17003421754187137, -0.0480714659430897, -0.07313114476434036, 0.02938457748282888]',\n",
       "  'is_first': False,\n",
       "  'is_last': False,\n",
       "  'prev_word': 'sajeng',\n",
       "  'next_word': 'katur'},\n",
       " {'bias': 1.0,\n",
       "  'word': 'katur',\n",
       "  'word_embedding': '[0.04798905014857522, -0.0787984938778581, 0.022629692671840833, -0.04210420580664694, 0.010485115854308554, 0.05145471360655776, -0.055184779966415194, 0.03522312993234515, -0.10525009930601165, -0.0864894306393933, -0.18590232305604434, -0.1640786619201889, 0.03512466053341497, 0.12978029770136706, -0.08455371173720143, 0.013721241561969477, 0.023034343277734418, -0.03234829252296633, -0.11301254975588781, -0.07595299586406447, 0.018424222158444192, 0.02984420444826916, -0.11122676016585024, 0.049786817556944085, 0.025146343859964393, 0.0022836216838769113, -0.21288638351673322, -0.13427827053835273, -0.19309365773512216, 0.044554230570772874, 0.0556079239663881, -0.05291535613948854, 0.028453605098435815, -0.024534351518171755, 0.06448717817098477, -0.10682590019527509, -0.054938370202892224, -0.12771481035444424, -0.25015605880312464, -0.14037033440812882, -0.006821741515697185, -0.04900424653532045, -0.05875903629758396, -0.10198107935388348, -0.2093938175123733, 0.18491004646210757, -0.055094543046258715, -0.0633537131849061, -0.03503145179744812, -0.1225438736106014, -0.04401711181621354, -0.17119405968560347, 0.19563973613773175, 0.06558450995451652, 0.05373808143465108, -0.06386016138903348, 0.21514209605373083, 0.02739974209822254, -0.11475948336358399, -0.10669222868165444, 0.0285702995365522, 0.03896835855797156, 0.059577837681999375, 0.011818817894748444, -0.04687351070192557, -0.021199143911998876, -0.23792693373947968, -0.0862060726680022, 0.06257121245609394, 0.13144053380365064, 0.012938245575987002, -0.10190953848604657, 0.08261113721409796, -0.009254568045910272, -0.08930288188102886, -0.05133641776656792, 0.11309338393898523, -0.09605426358802356, -0.07283204298189629, -0.04359191191734796, 0.07043579248642204, -0.014275438389924476, 0.11926716444181468, 0.00042489835947452073, -0.0858607278718705, 0.00654230895926952, -0.2045393333537092, 0.08597497314512043, 0.07629662003439851, -0.060448028877355175, 0.05078547534053652, 0.10992962113216043, 0.1241236141909758, -0.022279811071868275, 0.1604614011442956, 0.13738927038620988, 0.10598944098028969, -0.1307341767733166, 0.0427960782326548, 0.026495019778346937]',\n",
       "  'is_first': False,\n",
       "  'is_last': False,\n",
       "  'prev_word': 'mangda',\n",
       "  'next_word': 'raina'},\n",
       " {'bias': 1.0,\n",
       "  'word': 'raina',\n",
       "  'word_embedding': '[-0.10853649308223147, -0.10480958213730242, -0.20471624082918183, 0.0627492072189933, -0.03296086109615449, 0.01928988158774759, 0.03252180189116442, 0.10304569426383617, 0.11910538550555808, -0.0547679238591829, 0.019968623241634793, -0.008843948916998254, -0.08394860966713488, 0.026998316789682446, -0.11806830576654735, 0.011571581002755467, -0.004651594065600663, -0.01714206455449299, -0.08489948339548138, 0.08350368151083556, 0.09401064400102219, 0.010331336538056606, -0.10839501918867417, -0.020073665169129205, 0.05707201696804028, 0.08770954356224163, -0.11755920225294139, -0.07315181127329984, 0.08925264710376096, -0.01972218086025979, -0.11676076242137873, -0.012385680229943723, 0.19800947606970656, -0.04583067356159904, -0.04505381431388262, 0.02580630298922178, -0.06809267740163556, 0.044556632401035516, -0.05596988825550631, -0.17229678340145416, -0.08174878709510576, -0.19371201602404706, -0.03767596283242141, 0.015044124911286651, 0.05793227844390123, -0.0083473205997777, -0.1493221195867016, -0.0765070505220668, -0.020509853314341225, -0.004390629439090429, 0.04352395338386872, -0.09321262542309101, 0.0678941071923687, -0.06698036764228428, 0.060204763639671845, 0.006850799236909256, 0.21146753740141652, -0.1930503642006561, -0.006516486126857178, -0.11261554170986499, 0.10799203191654783, 0.05381585406642421, -0.13360403324485468, -0.04857874031093332, -0.033261614626308486, 0.08507684570993648, -0.15684427836506443, -0.06037166390457364, 0.019317074438682833, 0.013126121260439851, 0.14281935627418055, -0.19605738320722055, -0.29741295677687934, -0.1332847698660257, 0.04651107821885122, 0.03240942600238465, 0.19008532784877408, -0.12706377894201507, -0.08376864821697685, 0.04676126188803511, -0.12569402426255577, 0.032976328236026524, -0.009823718681863077, -0.23333707093976958, -0.04717027020503723, 0.03033753125920123, -0.07572645304992767, 0.1420799638542794, 0.14500889357414298, -0.07029442669717834, -0.13045827012465175, -0.07379262544246108, -0.05180591180061297, 0.06931271894092156, 0.19108384495905983, 0.015441183502241891, 0.1109687132253254, -0.01956224282245063, -0.00028870163818950486, 0.06316267744843475]',\n",
       "  'is_first': False,\n",
       "  'is_last': False,\n",
       "  'prev_word': 'katur',\n",
       "  'next_word': 'benjang'},\n",
       " {'bias': 1.0,\n",
       "  'word': 'benjang',\n",
       "  'word_embedding': '[0.08052066789288827, -0.011021183627217641, 0.05795506963976911, -0.10783562908186319, 0.03222775774142524, 0.08830787361853654, 0.01821040961434473, -0.19126278617767167, 0.037681500332192766, -0.0026390848937941805, -0.11942475996685513, -0.13021935676223664, 0.046370882246700156, 0.05734399614020647, -0.1641647131725965, -0.029752939649822393, 0.022988965265668983, -0.1019228100224648, -0.09447757903258423, -0.04602334909004434, 0.034644822512941695, -0.12964652470855284, 0.004151518285898459, -0.07824244678733644, 0.22485463017706492, -0.08276578245002612, -0.16143874158982446, -0.09649914450847719, -0.0940096668411626, 0.10904322319862299, 0.04977911107768104, -0.07926069605957911, -0.2317902220694827, -0.12325730595080668, -0.05485348816980311, -0.10320820533956565, 0.016645995791297923, -0.05163612738643093, -0.0929669621192781, 0.006837352545065232, -0.04905277881459444, 0.057692383236912025, 0.14960376448441895, 0.04678685490110087, -0.0009053852523288622, 0.16581261549187495, 0.053306223354719476, -0.14040979536501993, -0.028369857771943337, -0.18322309202055562, 0.010453722657139543, -0.14337740950632358, -0.06478753629876971, -0.11125288684296107, 0.07787672120820953, 0.17735739802026596, -0.09700652161389714, -0.019302745616135143, -0.12070908459803012, -0.07379240464479023, -0.004659759489415014, 0.09972128114600787, -0.045640912935082885, -0.10432170988961717, 0.06655168374560641, 0.07087777105267677, -0.23199217309487588, -0.07958908275196146, 0.0798206223890069, -0.031419914753824996, 0.12328577823996607, -0.01946149710028946, -0.07304942189039759, 0.20120805231417024, -0.03182754307929158, 0.10707538992266594, -0.0689107583907217, -0.1259233606314515, -0.03020511597329373, -0.10014054955693538, 0.025642346020305993, 0.20155832103937765, 0.03235622689292297, -0.09681344034759075, 0.03557960199559974, 0.08329439607875681, -0.07386910114058479, 0.05783892779313751, -0.012694195027501605, 0.12951388555342377, 0.1561832120223589, -0.007409241386064507, 0.0815602538916353, 0.09926661196311957, 0.07997288957666394, 0.08488766359674535, -0.06706234082349077, -0.04656892261961491, -0.03679041435329408, 0.17694964883192027]',\n",
       "  'is_first': False,\n",
       "  'is_last': True,\n",
       "  'prev_word': 'raina',\n",
       "  'next_word': ''}]"
      ]
     },
     "execution_count": 31,
     "metadata": {},
     "output_type": "execute_result"
    }
   ],
   "source": [
    "X_train[3]"
   ]
  },
  {
   "cell_type": "code",
   "execution_count": null,
   "metadata": {},
   "outputs": [],
   "source": [
    "import pycrfsuite\n",
    "\n",
    "# Inisialisasi trainer\n",
    "trainer = pycrfsuite.Trainer(verbose=False)\n",
    "\n",
    "# Tambahkan data pelatihan\n",
    "for xseq, yseq in zip(X_train, y_train):\n",
    "    trainer.append(xseq, yseq)\n",
    "\n",
    "# Atur parameter CRF\n",
    "trainer.set_params({\n",
    "    'c1': 1.0,  # Regularisasi L1\n",
    "    'c2': 1.0,  # Regularisasi L2\n",
    "    'max_iterations': 100,\n",
    "    'feature.possible_transitions': True\n",
    "})\n",
    "\n",
    "# Melatih model\n",
    "trainer.train('crf.model')"
   ]
  },
  {
   "cell_type": "code",
   "execution_count": 42,
   "metadata": {},
   "outputs": [
    {
     "name": "stdout",
     "output_type": "stream",
     "text": [
      "              precision    recall  f1-score   support\n",
      "\n",
      "         adj       0.94      0.68      0.79       284\n",
      "         adp       0.97      0.91      0.94      1650\n",
      "         adv       0.95      0.85      0.90      1367\n",
      "         det       0.98      0.96      0.97      1048\n",
      "        noun       0.87      0.90      0.89      5073\n",
      "         num       1.00      0.56      0.72        62\n",
      "        pron       0.96      0.92      0.94       951\n",
      "       propn       0.78      0.84      0.81      1104\n",
      "       punct       0.78      0.84      0.81      2168\n",
      "        verb       0.87      0.87      0.87      2780\n",
      "\n",
      "    accuracy                           0.88     16487\n",
      "   macro avg       0.91      0.83      0.86     16487\n",
      "weighted avg       0.88      0.88      0.88     16487\n",
      "\n"
     ]
    }
   ],
   "source": [
    "from sklearn.metrics import classification_report\n",
    "\n",
    "# Memuat model CRF yang sudah dilatih\n",
    "tagger = pycrfsuite.Tagger()\n",
    "tagger.open('crf.model')\n",
    "\n",
    "# Melakukan prediksi pada data uji\n",
    "y_pred = [tagger.tag(xseq) for xseq in X_test]\n",
    "\n",
    "# Menghitung akurasi\n",
    "y_test_flat = [label for seq in y_test for label in seq]  # Flatten y_test\n",
    "y_pred_flat = [label for seq in y_pred for label in seq]  # Flatten y_pred\n",
    "\n",
    "# Laporan klasifikasi\n",
    "print(classification_report(y_test_flat, y_pred_flat))\n"
   ]
  },
  {
   "cell_type": "code",
   "execution_count": 43,
   "metadata": {},
   "outputs": [
    {
     "name": "stdout",
     "output_type": "stream",
     "text": [
      "Akurasi: 87.94%\n"
     ]
    }
   ],
   "source": [
    "# Hitung jumlah prediksi yang benar\n",
    "correct = 0\n",
    "total = 0\n",
    "\n",
    "for true_seq, pred_seq in zip(y_test, y_pred):\n",
    "    for true_label, pred_label in zip(true_seq, pred_seq):\n",
    "        if true_label == pred_label:\n",
    "            correct += 1\n",
    "        total += 1\n",
    "\n",
    "# Akurasi\n",
    "accuracy = correct / total\n",
    "print(f\"Akurasi: {accuracy:.2%}\")"
   ]
  },
  {
   "cell_type": "code",
   "execution_count": 44,
   "metadata": {},
   "outputs": [
    {
     "name": "stdout",
     "output_type": "stream",
     "text": [
      "F1-Score: 88.00%\n"
     ]
    }
   ],
   "source": [
    "from sklearn.metrics import f1_score\n",
    "\n",
    "# Menghitung F1-Score\n",
    "f1 = f1_score(y_test_flat, y_pred_flat, average='weighted')\n",
    "print(f\"F1-Score: {f1:.2%}\")"
   ]
  },
  {
   "cell_type": "code",
   "execution_count": 276,
   "metadata": {},
   "outputs": [],
   "source": [
    "def proses_pos(sentence):\n",
    "\n",
    "    crf = pycrfsuite.Tagger()\n",
    "    crf.open('crf.model')\n",
    "\n",
    "    sentence_embs = []\n",
    "\n",
    "    sentence_split = sentence.split()\n",
    "\n",
    "    for word in sentence_split:\n",
    "        sentence_embs.append(data_embedding_funct(word))\n",
    "\n",
    "    data_temp = {\n",
    "        'sentences' : sentence_split,\n",
    "        'word_embs' : sentence_embs\n",
    "    }\n",
    "\n",
    "    df_temp = pd.DataFrame(data_temp)\n",
    "    df_temp['word_embs'] = df_temp['word_embs'].apply(lambda x: x.tolist())\n",
    "\n",
    "    feature = sentences_to_features(df_temp['sentences'], df_temp['word_embs'])\n",
    "    return crf.tag(feature)\n"
   ]
  },
  {
   "cell_type": "code",
   "execution_count": 277,
   "metadata": {},
   "outputs": [
    {
     "name": "stdout",
     "output_type": "stream",
     "text": [
      "['noun', 'punct', 'adp', 'noun', 'punct', 'verb', 'noun']\n"
     ]
    }
   ],
   "source": [
    "sentence = \"meme ngomong teken pianakne apanga gegaene aluhan\"\n",
    "print(proses_pos(sentence))"
   ]
  },
  {
   "cell_type": "code",
   "execution_count": 259,
   "metadata": {},
   "outputs": [
    {
     "name": "stdout",
     "output_type": "stream",
     "text": [
      "<class 'str'>\n",
      "2174\n"
     ]
    },
    {
     "data": {
      "text/plain": [
       "'[0.12964028080210996, -0.09584557628465226, 0.0655824654971349, -0.05066044429784154, 0.10998222827387567, 0.03577038938767248, -0.1739068161416247, -0.08355342057577972, -0.06266904160187911, -0.026727112716117305, 0.005669683763925348, -0.11858280729549119, -0.22678012484483273, 0.038512443663754455, 0.10755820291299106, -0.07513139204035889, 0.09048007251225458, 0.11488925911552383, -0.02034605971750329, -0.09421117343602718, -0.07717109482453818, -0.035327546697538584, -0.15152994399945027, -0.07094829972188972, 0.008988788331132131, -0.027797145897903067, -0.03254293872863036, -0.07480245956082596, -0.053945412856573345, -0.04488172450516051, -0.0040252880507345755, -0.21698266250197726, -0.14118284345194676, 0.12728285834714947, 0.06759178231666081, 0.17882710730796353, -0.017745728343314244, -0.04537996897663905, 0.049403713760017065, -0.130926563371036, -0.008407953293425087, 0.027842612730696062, 0.011415118461265585, -0.021892717795998242, 0.03745760010676721, -0.05823870496462569, -0.013788716829545057, -0.15395450810024666, -0.03251919928931779, -0.08746457619157906, 0.015729697178170274, -0.09436620582947806, -0.06636153536508461, -0.26059178784066783, -0.07644570726439412, 0.0047743633474168715, 0.08178504365980738, -0.06513958849106305, 0.019428624873968032, 0.11188917511185112, 0.03874882840599707, -0.13912971922861686, 0.13284559967482437, -0.1915840474619044, 0.11455079346311677, 0.03342014741197674, -0.08846209006473692, 0.1841121784104725, 0.09795695945850255, 0.10968144868924978, 0.07377237706972055, -0.19406108650541842, -0.016064617848175138, -0.07652705236034973, -0.011477776422693101, 0.04485943338901113, 0.09339329926807975, 0.13718578753465627, 0.03890656651488197, -0.04680789156953893, 0.17881307283738937, 0.041107712521307536, -0.08174542242787086, -0.06437287552616916, -0.06524008351505786, 0.004211909660913961, -0.012703614290657503, -0.014061734390126805, -0.2693448296992489, -0.11239034667653594, 0.0797160183977119, -0.1475642580097153, 0.07272869611947393, 0.07977449788789684, 0.1259161751088394, 0.009617411518796004, 0.15720878584491116, -0.03431591274944381, -0.07591350564250665, 0.023072773353041445]'"
      ]
     },
     "execution_count": 259,
     "metadata": {},
     "output_type": "execute_result"
    }
   ],
   "source": [
    "print(type(df_dataset['word_embs'][0][0]))\n",
    "print(len(df_dataset['word_embs'][0][0]))\n",
    "df_dataset['word_embs'][0][0]"
   ]
  },
  {
   "cell_type": "code",
   "execution_count": null,
   "metadata": {},
   "outputs": [],
   "source": []
  }
 ],
 "metadata": {
  "kernelspec": {
   "display_name": "Python 3",
   "language": "python",
   "name": "python3"
  },
  "language_info": {
   "codemirror_mode": {
    "name": "ipython",
    "version": 3
   },
   "file_extension": ".py",
   "mimetype": "text/x-python",
   "name": "python",
   "nbconvert_exporter": "python",
   "pygments_lexer": "ipython3",
   "version": "3.11.0"
  }
 },
 "nbformat": 4,
 "nbformat_minor": 2
}
